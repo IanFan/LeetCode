{
 "cells": [
  {
   "cell_type": "code",
   "execution_count": 13,
   "metadata": {},
   "outputs": [],
   "source": [
    "import time\n",
    "from collections import deque\n",
    "\n",
    "# Definition for a binary tree node.\n",
    "class TreeNode(object):\n",
    "    def __init__(self, x):\n",
    "        self.val = x\n",
    "        self.left = None\n",
    "        self.right = None\n",
    "        \n",
    "# [1,2,2,3,4,4,3]\n",
    "r = TreeNode(1)\n",
    "r.left = TreeNode(2)\n",
    "r.right = TreeNode(2)\n",
    "r.left.left =  TreeNode(3)\n",
    "r.left.right =  TreeNode(4)\n",
    "r.right.left =  TreeNode(4)\n",
    "r.right.right =  TreeNode(3)\n",
    "\n",
    "# [1,2,2,null,3,null,3]\n",
    "r1 = TreeNode(1)\n",
    "r1.left = TreeNode(2)\n",
    "r1.right = TreeNode(2)\n",
    "r1.left.left =  TreeNode(None)\n",
    "r1.left.right =  TreeNode(3)\n",
    "r1.right.left =  TreeNode(None)\n",
    "r1.right.right =  TreeNode(3)\n",
    "\n",
    "r2 = None"
   ]
  },
  {
   "cell_type": "code",
   "execution_count": 15,
   "metadata": {},
   "outputs": [
    {
     "name": "stdout",
     "output_type": "stream",
     "text": [
      "True\n",
      "True\n",
      "True\n",
      "--- 0.00039505958557128906 seconds ---\n"
     ]
    }
   ],
   "source": [
    "start_time = time.time()\n",
    "\n",
    "class Solution(object):        \n",
    "    def isSymmetric(self, root):\n",
    "        \"\"\"\n",
    "        :type root: TreeNode\n",
    "        :rtype: bool\n",
    "        \"\"\"\n",
    "        if not root:\n",
    "            return True\n",
    "        d = deque([(root.left, root.right)])\n",
    "        while d:\n",
    "            left, right = d.popleft()\n",
    "            if left is None and right is None:\n",
    "                continue\n",
    "            if left is None or right is None:\n",
    "                return False\n",
    "            if left.val != right.val:\n",
    "                return False\n",
    "            d.append((left.left, right.right))\n",
    "            d.append((left.right, right.left))\n",
    "        return True\n",
    "        \n",
    "sol = Solution()\n",
    "print(sol.isSymmetric(r) == True)\n",
    "print(sol.isSymmetric(r1) == False)\n",
    "print(sol.isSymmetric(r2) == True)\n",
    "print(\"--- %s seconds ---\" % (time.time() - start_time))"
   ]
  },
  {
   "cell_type": "code",
   "execution_count": null,
   "metadata": {},
   "outputs": [],
   "source": []
  }
 ],
 "metadata": {
  "kernelspec": {
   "display_name": "Python 3",
   "language": "python",
   "name": "python3"
  },
  "language_info": {
   "codemirror_mode": {
    "name": "ipython",
    "version": 3
   },
   "file_extension": ".py",
   "mimetype": "text/x-python",
   "name": "python",
   "nbconvert_exporter": "python",
   "pygments_lexer": "ipython3",
   "version": "3.6.8"
  }
 },
 "nbformat": 4,
 "nbformat_minor": 2
}
