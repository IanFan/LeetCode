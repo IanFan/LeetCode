{
 "cells": [
  {
   "cell_type": "markdown",
   "metadata": {},
   "source": [
    "## 1185. Day of the Week"
   ]
  },
  {
   "cell_type": "code",
   "execution_count": 3,
   "metadata": {},
   "outputs": [
    {
     "name": "stdout",
     "output_type": "stream",
     "text": [
      "Saturday\n",
      "Sunday\n",
      "Sunday\n"
     ]
    }
   ],
   "source": [
    "\"\"\"\n",
    "Given a date, return the corresponding day of the week for that date.\n",
    "\n",
    "The input is given as three integers representing the day, month and year respectively.\n",
    "\n",
    "Return the answer as one of the following values {\"Sunday\", \"Monday\", \"Tuesday\", \"Wednesday\", \"Thursday\", \"Friday\", \"Saturday\"}.\n",
    "\n",
    " \n",
    "\n",
    "Example 1:\n",
    "\n",
    "Input: day = 31, month = 8, year = 2019\n",
    "Output: \"Saturday\"\n",
    "Example 2:\n",
    "\n",
    "Input: day = 18, month = 7, year = 1999\n",
    "Output: \"Sunday\"\n",
    "Example 3:\n",
    "\n",
    "Input: day = 15, month = 8, year = 1993\n",
    "Output: \"Sunday\"\n",
    "\"\"\"\n",
    "\n",
    "class Solution(object):\n",
    "    def dayOfTheWeek(self, day, month, year):\n",
    "        \"\"\"\n",
    "        :type day: int\n",
    "        :type month: int\n",
    "        :type year: int\n",
    "        :rtype: str\n",
    "        \"\"\"\n",
    "        # from datetime import datetime\n",
    "        # the_day = str(year)+\"-\"+str(month)+\"-\"+str(day)\n",
    "        # the_day = datetime.strptime(the_day, \"%Y-%m-%d\")\n",
    "        # weekday = the_day.weekday()\n",
    "        # names = {0:\"Monday\", 1:\"Tuesday\", 2:\"Wednesday\", 3:\"Thursday\", 4:\"Friday\", 5:\"Saturday\", 6:\"Sunday\"}\n",
    "        # return names[weekday]\n",
    "        \n",
    "        names = {0:\"Monday\", 1:\"Tuesday\", 2:\"Wednesday\", 3:\"Thursday\", 4:\"Friday\", 5:\"Saturday\", 6:\"Sunday\"}\n",
    "        days = 0\n",
    "        for i in range(1970, year):\n",
    "            days += (365 + (self.leap_year(i)))\n",
    "        for i in range(1, month):\n",
    "            if i in [1,3,5,7,8,10,12]: \n",
    "                days += 31\n",
    "            elif i in [4,6,9,11]: \n",
    "                days += 30\n",
    "            else: \n",
    "                days += (28 + self.leap_year(year))\n",
    "        days += day\n",
    "        return names[(days+2)%7]\n",
    "        \n",
    "    def leap_year(self, year):\n",
    "        return (year%4 == 0 and year%100 != 0) or (year%400 == 0)\n",
    "    \n",
    "sol = Solution()\n",
    "print(sol.dayOfTheWeek(31, 8, 2019)) # Saturday\n",
    "print(sol.dayOfTheWeek(18, 7, 1999)) # Sunday\n",
    "print(sol.dayOfTheWeek(15, 8, 1993)) # Sunday"
   ]
  },
  {
   "cell_type": "code",
   "execution_count": null,
   "metadata": {},
   "outputs": [],
   "source": []
  }
 ],
 "metadata": {
  "kernelspec": {
   "display_name": "Python 3",
   "language": "python",
   "name": "python3"
  },
  "language_info": {
   "codemirror_mode": {
    "name": "ipython",
    "version": 3
   },
   "file_extension": ".py",
   "mimetype": "text/x-python",
   "name": "python",
   "nbconvert_exporter": "python",
   "pygments_lexer": "ipython3",
   "version": "3.6.8"
  }
 },
 "nbformat": 4,
 "nbformat_minor": 2
}
