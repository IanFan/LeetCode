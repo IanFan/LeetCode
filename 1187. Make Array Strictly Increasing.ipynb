{
 "cells": [
  {
   "cell_type": "markdown",
   "metadata": {},
   "source": [
    "## 1187. Make Array Strictly Increasing"
   ]
  },
  {
   "cell_type": "code",
   "execution_count": null,
   "metadata": {},
   "outputs": [],
   "source": [
    "\"\"\"\n",
    "Given two integer arrays arr1 and arr2, return the minimum number of operations (possibly zero) needed to make arr1 strictly increasing.\n",
    "\n",
    "In one operation, you can choose two indices 0 <= i < arr1.length and 0 <= j < arr2.length and do the assignment arr1[i] = arr2[j].\n",
    "\n",
    "If there is no way to make arr1 strictly increasing, return -1.\n",
    "\n",
    " \n",
    "\n",
    "Example 1:\n",
    "Input: arr1 = [1,5,3,6,7], arr2 = [1,3,2,4]\n",
    "Output: 1\n",
    "Explanation: Replace 5 with 2, then arr1 = [1, 2, 3, 6, 7].\n",
    "\n",
    "Example 2:\n",
    "Input: arr1 = [1,5,3,6,7], arr2 = [4,3,1]\n",
    "Output: 2\n",
    "Explanation: Replace 5 with 3 and then replace 3 with 4. arr1 = [1, 3, 4, 6, 7].\n",
    "\n",
    "Example 3:\n",
    "Input: arr1 = [1,5,3,6,7], arr2 = [1,6,3,3]\n",
    "Output: -1\n",
    "Explanation: You can't make arr1 strictly increasing.\n",
    " \n",
    "Constraints:\n",
    "\n",
    "1 <= arr1.length, arr2.length <= 2000\n",
    "0 <= arr1[i], arr2[i] <= 10^9\n",
    "\"\"\"\n",
    "\n",
    "class Solution:\n",
    "    def makeArrayIncreasing(self, arr1, arr2) -> int:\n",
    "        \n",
    "\n",
    "sol = Solution()\n",
    "print(sol.makeArrayIncreasing([1,5,3,6,7], [1,3,2,4])) # 1\n",
    "print(sol.makeArrayIncreasing([1,5,3,6,7], [4,3,1])) # 2\n",
    "print(sol.makeArrayIncreasing([1,5,3,6,7], [1,6,3,3])) # -1"
   ]
  }
 ],
 "metadata": {
  "kernelspec": {
   "display_name": "Python 3",
   "language": "python",
   "name": "python3"
  },
  "language_info": {
   "codemirror_mode": {
    "name": "ipython",
    "version": 3
   },
   "file_extension": ".py",
   "mimetype": "text/x-python",
   "name": "python",
   "nbconvert_exporter": "python",
   "pygments_lexer": "ipython3",
   "version": "3.6.8"
  }
 },
 "nbformat": 4,
 "nbformat_minor": 2
}
