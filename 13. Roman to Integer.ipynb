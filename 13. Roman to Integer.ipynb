{
 "cells": [
  {
   "cell_type": "code",
   "execution_count": 1,
   "metadata": {},
   "outputs": [],
   "source": [
    "import time"
   ]
  },
  {
   "cell_type": "code",
   "execution_count": 2,
   "metadata": {},
   "outputs": [
    {
     "name": "stdout",
     "output_type": "stream",
     "text": [
      "True\n",
      "True\n",
      "True\n",
      "True\n",
      "True\n",
      "--- 0.0004749298095703125 seconds ---\n"
     ]
    }
   ],
   "source": [
    "start_time = time.time()\n",
    "\n",
    "class Solution(object):\n",
    "    def romanToInt(self, s):\n",
    "        \"\"\"\n",
    "        :type s: str\n",
    "        :rtype: int\n",
    "        \"\"\"\n",
    "        dic = {\"I\":1, \"V\":5, \"X\":10, \"L\":50, \"C\":100, \"D\":500, \"M\":1000}\n",
    "        prev_num = None\n",
    "        prev_nums = 0\n",
    "        sum = 0\n",
    "        for c in s:\n",
    "            if c not in dic.keys():\n",
    "                print(\"error\")\n",
    "                return None\n",
    "            n = dic[c]\n",
    "            if n == prev_num or prev_num == None:\n",
    "                prev_nums += n\n",
    "                prev_num = n\n",
    "            elif n < prev_num:\n",
    "                sum += prev_nums\n",
    "                prev_nums = n\n",
    "                prev_num = n\n",
    "            elif n > prev_num:\n",
    "                sum -= prev_nums\n",
    "                prev_nums = n\n",
    "                prev_num = n\n",
    "        if prev_nums != 0:\n",
    "            sum += prev_nums\n",
    "        else:\n",
    "            sum += n\n",
    "        return sum\n",
    "    \n",
    "sol = Solution()\n",
    "print(sol.romanToInt(\"III\") == 3)\n",
    "print(sol.romanToInt(\"IV\") == 4)\n",
    "print(sol.romanToInt(\"IX\") == 9)\n",
    "print(sol.romanToInt(\"LVIII\") == 58)\n",
    "print(sol.romanToInt(\"MCMXCIV\") == 1994)\n",
    "\n",
    "print(\"--- %s seconds ---\" % (time.time() - start_time))"
   ]
  },
  {
   "cell_type": "code",
   "execution_count": 3,
   "metadata": {},
   "outputs": [
    {
     "name": "stdout",
     "output_type": "stream",
     "text": [
      "True\n",
      "True\n",
      "True\n",
      "True\n",
      "True\n",
      "--- 0.00045609474182128906 seconds ---\n"
     ]
    }
   ],
   "source": [
    "start_time = time.time()\n",
    "\n",
    "class Solution(object):\n",
    "    def romanToInt(self, s):\n",
    "        \"\"\"\n",
    "        :type s: str\n",
    "        :rtype: int\n",
    "        \"\"\"\n",
    "        dic = {\"I\":1, \"V\":5, \"X\":10, \"L\":50, \"C\":100, \"D\":500, \"M\":1000}\n",
    "        sum = 0\n",
    "        prev_num = 0\n",
    "        while(s):\n",
    "            curr_num = dic[s[-1]]\n",
    "            if curr_num < prev_num:\n",
    "                sum -= curr_num\n",
    "            else:\n",
    "                sum += curr_num\n",
    "            prev_num = curr_num\n",
    "            s = s[:-1]\n",
    "        return sum\n",
    "        \n",
    "    \n",
    "sol = Solution()\n",
    "print(sol.romanToInt(\"III\") == 3)\n",
    "print(sol.romanToInt(\"IV\") == 4)\n",
    "print(sol.romanToInt(\"IX\") == 9)\n",
    "print(sol.romanToInt(\"LVIII\") == 58)\n",
    "print(sol.romanToInt(\"MCMXCIV\") == 1994)\n",
    "\n",
    "print(\"--- %s seconds ---\" % (time.time() - start_time))"
   ]
  },
  {
   "cell_type": "markdown",
   "metadata": {},
   "source": [
    "## Integer to Roman"
   ]
  },
  {
   "cell_type": "code",
   "execution_count": 11,
   "metadata": {},
   "outputs": [
    {
     "name": "stdout",
     "output_type": "stream",
     "text": [
      "True\n",
      "True\n",
      "True\n",
      "True\n",
      "True\n",
      "--- 0.0004360675811767578 seconds ---\n"
     ]
    }
   ],
   "source": [
    "start_time = time.time()\n",
    "\n",
    "class Solution(object):\n",
    "    def intToRoman(self, n):\n",
    "        \"\"\"\n",
    "        :type s: str\n",
    "        :rtype: int\n",
    "        \"\"\"\n",
    "        num_list = [1000, 900, 500, 400, 100, 90, 50, 40, 10, 9, 5, 4, 1]\n",
    "        str_list = [\"M\", \"CM\", \"D\", \"CD\", \"C\", \"XC\", \"L\", \"XL\", \"X\", \"IX\", \"V\", \"IV\", \"I\"]\n",
    "        roman = ''\n",
    "        for i in range(len(num_list)):\n",
    "            while n >= num_list[i]:\n",
    "                n -= num_list[i]\n",
    "                roman += str_list[i]\n",
    "        return roman\n",
    "    \n",
    "sol = Solution()\n",
    "print(sol.intToRoman(3) == \"III\")\n",
    "print(sol.intToRoman(4) == \"IV\")\n",
    "print(sol.intToRoman(9) == \"IX\")\n",
    "print(sol.intToRoman(58) == \"LVIII\")\n",
    "print(sol.intToRoman(1994) == \"MCMXCIV\")\n",
    "    \n",
    "print(\"--- %s seconds ---\" % (time.time() - start_time))"
   ]
  },
  {
   "cell_type": "code",
   "execution_count": null,
   "metadata": {},
   "outputs": [],
   "source": []
  }
 ],
 "metadata": {
  "kernelspec": {
   "display_name": "Python 3",
   "language": "python",
   "name": "python3"
  },
  "language_info": {
   "codemirror_mode": {
    "name": "ipython",
    "version": 3
   },
   "file_extension": ".py",
   "mimetype": "text/x-python",
   "name": "python",
   "nbconvert_exporter": "python",
   "pygments_lexer": "ipython3",
   "version": "3.6.8"
  }
 },
 "nbformat": 4,
 "nbformat_minor": 2
}
