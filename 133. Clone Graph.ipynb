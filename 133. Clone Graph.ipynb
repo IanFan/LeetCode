{
 "cells": [
  {
   "cell_type": "markdown",
   "metadata": {},
   "source": [
    "## 133. Clone Graph"
   ]
  },
  {
   "cell_type": "code",
   "execution_count": null,
   "metadata": {},
   "outputs": [],
   "source": [
    "# Definition for a Node.\n",
    "class Node(object):\n",
    "    def __init__(self, val, neighbors):\n",
    "        self.val = val\n",
    "        self.neighbors = neighbors\n",
    "\n",
    "class Solution(object):\n",
    "    def cloneGraph(self, node):\n",
    "        \"\"\"\n",
    "        :type node: Node\n",
    "        :rtype: Node\n",
    "        \"\"\"\n",
    "        clone = UndirectedGraphNode()"
   ]
  }
 ],
 "metadata": {
  "kernelspec": {
   "display_name": "Python 3",
   "language": "python",
   "name": "python3"
  },
  "language_info": {
   "codemirror_mode": {
    "name": "ipython",
    "version": 3
   },
   "file_extension": ".py",
   "mimetype": "text/x-python",
   "name": "python",
   "nbconvert_exporter": "python",
   "pygments_lexer": "ipython3",
   "version": "3.6.8"
  }
 },
 "nbformat": 4,
 "nbformat_minor": 2
}
