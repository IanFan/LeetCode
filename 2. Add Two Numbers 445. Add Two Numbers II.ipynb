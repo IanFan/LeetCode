{
 "cells": [
  {
   "cell_type": "markdown",
   "metadata": {},
   "source": [
    "## 2. Add Two Numbers"
   ]
  },
  {
   "cell_type": "code",
   "execution_count": 6,
   "metadata": {},
   "outputs": [
    {
     "name": "stdout",
     "output_type": "stream",
     "text": [
      "<__main__.ListNode object at 0x1132e2940>\n"
     ]
    }
   ],
   "source": [
    "\"\"\"\n",
    "You are given two non-empty linked lists representing two non-negative integers. The digits are stored in reverse order and each of their nodes contain a single digit. Add the two numbers and return it as a linked list.\n",
    "\n",
    "You may assume the two numbers do not contain any leading zero, except the number 0 itself.\n",
    "\n",
    "Example:\n",
    "\n",
    "Input: (2 -> 4 -> 3) + (5 -> 6 -> 4)\n",
    "Output: 7 -> 0 -> 8\n",
    "Explanation: 342 + 465 = 807.\n",
    "\"\"\"\n",
    "\n",
    "# Definition for singly-linked list.\n",
    "class ListNode:\n",
    "    def __init__(self, x):\n",
    "        self.val = x\n",
    "        self.next = None\n",
    "\n",
    "class Solution:\n",
    "    def addTwoNumbers(self, l1: ListNode, l2: ListNode) -> ListNode:\n",
    "        s1 = \"\"\n",
    "        while l1:\n",
    "            s1 += str(l1.val)\n",
    "            l1 = l1.next\n",
    "        s2 = \"\"\n",
    "        while l2:\n",
    "            s2 += str(l2.val)\n",
    "            l2 = l2.next\n",
    "        s1 = s1[::-1]\n",
    "        s2 = s2[::-1]\n",
    "        s = str(int(s1) + int(s2))\n",
    "        s = s[::-1]\n",
    "        if len(s) == 0:\n",
    "            return None\n",
    "        l = None\n",
    "        for c in s:\n",
    "            if not l:\n",
    "                l = ListNode(int(c))\n",
    "                l_tmp = l\n",
    "            else:\n",
    "                l_tmp.next = ListNode(int(c))\n",
    "                l_tmp = l_tmp.next\n",
    "        return l\n",
    "        \n",
    "l1 = ListNode(2)\n",
    "l1.next = ListNode(4)\n",
    "l1.next.next = ListNode(3)\n",
    "\n",
    "l2 = ListNode(5)\n",
    "l2.next = ListNode(6)\n",
    "l2.next.next = ListNode(4)\n",
    "\n",
    "sol = Solution()\n",
    "print(sol.addTwoNumbers(l1, l2))"
   ]
  },
  {
   "cell_type": "markdown",
   "metadata": {},
   "source": [
    "## 445. Add Two Numbers II"
   ]
  },
  {
   "cell_type": "code",
   "execution_count": 7,
   "metadata": {},
   "outputs": [
    {
     "name": "stdout",
     "output_type": "stream",
     "text": [
      "<__main__.ListNode object at 0x1132e2780>\n"
     ]
    }
   ],
   "source": [
    "\"\"\"\n",
    "You are given two non-empty linked lists representing two non-negative integers. The most significant digit comes first and each of their nodes contain a single digit. Add the two numbers and return it as a linked list.\n",
    "\n",
    "You may assume the two numbers do not contain any leading zero, except the number 0 itself.\n",
    "\n",
    "Follow up:\n",
    "What if you cannot modify the input lists? In other words, reversing the lists is not allowed.\n",
    "\n",
    "Example:\n",
    "\n",
    "Input: (7 -> 2 -> 4 -> 3) + (5 -> 6 -> 4)\n",
    "Output: 7 -> 8 -> 0 -> 7\n",
    "\"\"\"\n",
    "\n",
    "# Definition for singly-linked list.\n",
    "class ListNode:\n",
    "    def __init__(self, x):\n",
    "        self.val = x\n",
    "        self.next = None\n",
    "\n",
    "class Solution:\n",
    "    def addTwoNumbers(self, l1: ListNode, l2: ListNode) -> ListNode:\n",
    "        s1 = \"\"\n",
    "        while l1:\n",
    "            s1 += str(l1.val)\n",
    "            l1 = l1.next\n",
    "        s2 = \"\"\n",
    "        while l2:\n",
    "            s2 += str(l2.val)\n",
    "            l2 = l2.next\n",
    "        s = str(int(s1) + int(s2))\n",
    "        if len(s) == 0:\n",
    "            return None\n",
    "        l = None\n",
    "        for c in s:\n",
    "            if not l:\n",
    "                l = ListNode(int(c))\n",
    "                l_tmp = l\n",
    "            else:\n",
    "                l_tmp.next = ListNode(int(c))\n",
    "                l_tmp = l_tmp.next\n",
    "        return l\n",
    "        \n",
    "l1 = ListNode(7)\n",
    "l1.next = ListNode(2)\n",
    "l1.next.next = ListNode(4)\n",
    "l1.next.next.next = ListNode(3)\n",
    "\n",
    "l2 = ListNode(5)\n",
    "l2.next = ListNode(6)\n",
    "l2.next.next = ListNode(4)\n",
    "\n",
    "sol = Solution()\n",
    "print(sol.addTwoNumbers(l1, l2))"
   ]
  },
  {
   "cell_type": "code",
   "execution_count": null,
   "metadata": {},
   "outputs": [],
   "source": []
  }
 ],
 "metadata": {
  "kernelspec": {
   "display_name": "Python 3",
   "language": "python",
   "name": "python3"
  },
  "language_info": {
   "codemirror_mode": {
    "name": "ipython",
    "version": 3
   },
   "file_extension": ".py",
   "mimetype": "text/x-python",
   "name": "python",
   "nbconvert_exporter": "python",
   "pygments_lexer": "ipython3",
   "version": "3.6.8"
  }
 },
 "nbformat": 4,
 "nbformat_minor": 2
}
