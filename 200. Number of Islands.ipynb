{
 "cells": [
  {
   "cell_type": "code",
   "execution_count": 2,
   "metadata": {},
   "outputs": [],
   "source": [
    "import time"
   ]
  },
  {
   "cell_type": "code",
   "execution_count": 33,
   "metadata": {},
   "outputs": [
    {
     "name": "stdout",
     "output_type": "stream",
     "text": [
      "1\n",
      "--- 0.0008399486541748047 seconds ---\n"
     ]
    }
   ],
   "source": [
    "start_time = time.time()\n",
    "\n",
    "import numpy as np\n",
    "\n",
    "class Solution(object):\n",
    "    def numIslands(self, grid):\n",
    "        \"\"\"\n",
    "        :type grid: List[List[str]]\n",
    "        :rtype: int\n",
    "        \"\"\"\n",
    "        if not grid:\n",
    "            return 0\n",
    "        g = np.array(grid)\n",
    "        count = 0\n",
    "        for i in range(g.shape[0]):\n",
    "            for j in range(g.shape[1]):\n",
    "                if g[i, j] == \"1\":\n",
    "                    count += 1\n",
    "                    self.search(g, i, j)\n",
    "        return count\n",
    "    \n",
    "    def search(self, g, i, j):\n",
    "        if g[i, j] == \"1\":\n",
    "            g[i, j] = \"0\"\n",
    "            if i > 0:\n",
    "                self.search(g, i-1, j)\n",
    "            if i < g.shape[0]-1:\n",
    "                self.search(g, i+1, j)\n",
    "            if j > 0:\n",
    "                self.search(g, i, j-1)\n",
    "            if j < g.shape[1]-1:\n",
    "                self.search(g, i, j+1)\n",
    "        \n",
    "sol = Solution()\n",
    "print(sol.numIslands([[\"1\",\"1\",\"1\",\"1\",\"0\"],\n",
    "                      [\"1\",\"1\",\"0\",\"1\",\"0\"],\n",
    "                      [\"1\",\"1\",\"0\",\"0\",\"0\"],\n",
    "                      [\"0\",\"0\",\"0\",\"0\",\"0\"]]))\n",
    "\n",
    "print(\"--- %s seconds ---\" % (time.time() - start_time))"
   ]
  },
  {
   "cell_type": "code",
   "execution_count": 36,
   "metadata": {},
   "outputs": [
    {
     "name": "stdout",
     "output_type": "stream",
     "text": [
      "1\n",
      "--- 0.0005178451538085938 seconds ---\n"
     ]
    }
   ],
   "source": [
    "start_time = time.time()\n",
    "\n",
    "class Solution(object):\n",
    "    def numIslands(self, grid):\n",
    "        \"\"\"\n",
    "        :type grid: List[List[str]]\n",
    "        :rtype: int\n",
    "        \"\"\"\n",
    "        if not grid:\n",
    "            return 0\n",
    "        \n",
    "        count = 0\n",
    "        for i in range(len(grid)):\n",
    "            for j in range(len(grid[0])):\n",
    "                if grid[i][j] == '1':\n",
    "                    self.dfs(grid, i, j)\n",
    "                    count += 1\n",
    "        return count\n",
    "\n",
    "    def dfs(self, grid, i, j):\n",
    "        if i<0 or j<0 or i>=len(grid) or j>=len(grid[0]) or grid[i][j] != '1':\n",
    "            return\n",
    "        grid[i][j] = '#'\n",
    "        self.dfs(grid, i+1, j)\n",
    "        self.dfs(grid, i-1, j)\n",
    "        self.dfs(grid, i, j+1)\n",
    "        self.dfs(grid, i, j-1)\n",
    "        \n",
    "sol = Solution()\n",
    "print(sol.numIslands([[\"1\",\"1\",\"1\",\"1\",\"0\"],\n",
    "                      [\"1\",\"1\",\"0\",\"1\",\"0\"],\n",
    "                      [\"1\",\"1\",\"0\",\"0\",\"0\"],\n",
    "                      [\"0\",\"0\",\"0\",\"0\",\"0\"]]))\n",
    "\n",
    "print(\"--- %s seconds ---\" % (time.time() - start_time))"
   ]
  },
  {
   "cell_type": "code",
   "execution_count": null,
   "metadata": {},
   "outputs": [],
   "source": []
  }
 ],
 "metadata": {
  "kernelspec": {
   "display_name": "Python 3",
   "language": "python",
   "name": "python3"
  },
  "language_info": {
   "codemirror_mode": {
    "name": "ipython",
    "version": 3
   },
   "file_extension": ".py",
   "mimetype": "text/x-python",
   "name": "python",
   "nbconvert_exporter": "python",
   "pygments_lexer": "ipython3",
   "version": "3.6.8"
  }
 },
 "nbformat": 4,
 "nbformat_minor": 2
}
