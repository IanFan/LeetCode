{
 "cells": [
  {
   "cell_type": "code",
   "execution_count": 4,
   "metadata": {},
   "outputs": [],
   "source": [
    "import time"
   ]
  },
  {
   "cell_type": "code",
   "execution_count": 13,
   "metadata": {},
   "outputs": [
    {
     "name": "stdout",
     "output_type": "stream",
     "text": [
      "19\n",
      "82\n",
      "68\n",
      "100\n",
      "True\n",
      "--- 0.0008568763732910156 seconds ---\n"
     ]
    }
   ],
   "source": [
    "start_time = time.time()\n",
    "\n",
    "from collections import deque\n",
    "\n",
    "class Solution(object):\n",
    "    def isHappy(self, n):\n",
    "        \"\"\"\n",
    "        :type n: int\n",
    "        :rtype: bool\n",
    "        \"\"\"\n",
    "        if not n:\n",
    "            return None\n",
    "        \n",
    "        dic = dict()\n",
    "        \n",
    "        i = 0\n",
    "        while True:\n",
    "            i += 1\n",
    "            if i>10000:\n",
    "                print(i)\n",
    "                break\n",
    "            if n not in dic.keys():\n",
    "                print(n)\n",
    "                dic[n] = 1\n",
    "            else:\n",
    "                return False\n",
    "            \n",
    "            queue = deque()\n",
    "            while True:\n",
    "                a = int(n%10)\n",
    "                queue.appendleft(a)\n",
    "                if int(n/10) == 0:\n",
    "                    break\n",
    "                n = n/10\n",
    "            \n",
    "            n = 0\n",
    "            for b in queue:\n",
    "                n += b*b\n",
    "                \n",
    "            if n == 1:\n",
    "                return True\n",
    "            \n",
    "            \n",
    "sol = Solution()\n",
    "print(sol.isHappy(19) == True) \n",
    "\n",
    "print(\"--- %s seconds ---\" % (time.time() - start_time))  "
   ]
  },
  {
   "cell_type": "code",
   "execution_count": 20,
   "metadata": {},
   "outputs": [
    {
     "name": "stdout",
     "output_type": "stream",
     "text": [
      "True\n",
      "--- 0.00029087066650390625 seconds ---\n"
     ]
    }
   ],
   "source": [
    "start_time = time.time()\n",
    "\n",
    "from collections import deque\n",
    "\n",
    "class Solution(object):\n",
    "    def isHappy(self, n):\n",
    "        \"\"\"\n",
    "        :type n: int\n",
    "        :rtype: bool\n",
    "        \"\"\"\n",
    "        if not n:\n",
    "            return None\n",
    "        \n",
    "        mem = set()\n",
    "        while n != 1:\n",
    "            n = sum([int(i)**2 for i in str(n)])\n",
    "            if n in mem:\n",
    "                return False\n",
    "            else:\n",
    "                mem.add(n)\n",
    "        return True\n",
    "            \n",
    "            \n",
    "sol = Solution()\n",
    "print(sol.isHappy(19) == True) \n",
    "\n",
    "print(\"--- %s seconds ---\" % (time.time() - start_time))  "
   ]
  },
  {
   "cell_type": "code",
   "execution_count": 31,
   "metadata": {},
   "outputs": [
    {
     "name": "stdout",
     "output_type": "stream",
     "text": [
      "True\n",
      "--- 0.0003082752227783203 seconds ---\n"
     ]
    }
   ],
   "source": [
    "start_time = time.time()\n",
    "\n",
    "from collections import deque\n",
    "\n",
    "class Solution(object):\n",
    "    def step(self, n):\n",
    "        total = 0\n",
    "        while(n):\n",
    "            total += pow(n%10, 2)\n",
    "            n = n//10\n",
    "        return total\n",
    "    \n",
    "    def isHappy(self, n):\n",
    "        \"\"\"\n",
    "        :type n: int\n",
    "        :rtype: bool\n",
    "        \"\"\"\n",
    "        if not n:\n",
    "            return None\n",
    "        \n",
    "        slow = n\n",
    "        fast = self.step(slow)\n",
    "        \n",
    "        while True:\n",
    "            slow = self.step(slow)\n",
    "            \n",
    "            if slow == 1:\n",
    "                return True\n",
    "            \n",
    "            fast = self.step(self.step(fast))\n",
    "            \n",
    "            if slow == fast:\n",
    "                return False \n",
    "    \n",
    "    \n",
    "            \n",
    "            \n",
    "sol = Solution()\n",
    "print(sol.isHappy(19) == True) \n",
    "\n",
    "print(\"--- %s seconds ---\" % (time.time() - start_time))  "
   ]
  },
  {
   "cell_type": "code",
   "execution_count": null,
   "metadata": {},
   "outputs": [],
   "source": []
  }
 ],
 "metadata": {
  "kernelspec": {
   "display_name": "Python 3",
   "language": "python",
   "name": "python3"
  },
  "language_info": {
   "codemirror_mode": {
    "name": "ipython",
    "version": 3
   },
   "file_extension": ".py",
   "mimetype": "text/x-python",
   "name": "python",
   "nbconvert_exporter": "python",
   "pygments_lexer": "ipython3",
   "version": "3.6.8"
  }
 },
 "nbformat": 4,
 "nbformat_minor": 2
}
