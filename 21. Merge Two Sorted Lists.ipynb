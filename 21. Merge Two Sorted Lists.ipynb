{
 "cells": [
  {
   "cell_type": "code",
   "execution_count": 19,
   "metadata": {},
   "outputs": [],
   "source": [
    "# Definition for singly-linked list.\n",
    "class ListNode(object):\n",
    "    def __init__(self, x):\n",
    "        self.val = x\n",
    "        self.next = None\n",
    "        \n",
    "    def print_val(self):\n",
    "        a = [self.val]\n",
    "        tmp = self\n",
    "        while True:\n",
    "            if tmp.next != None:\n",
    "                tmp = tmp.next\n",
    "                a.append(tmp.val)\n",
    "            else:\n",
    "                break\n",
    "        print(a)\n",
    "        \n",
    "# 1->2->4, 1->3->4\n",
    "l1 = ListNode(1)\n",
    "tmp = l1\n",
    "tmp.next = ListNode(2)\n",
    "tmp = tmp.next\n",
    "tmp.next = ListNode(4)\n",
    "l2 = ListNode(1)\n",
    "tmp = l2\n",
    "tmp.next = ListNode(3)\n",
    "tmp = tmp.next\n",
    "tmp.next = ListNode(4)"
   ]
  },
  {
   "cell_type": "code",
   "execution_count": 20,
   "metadata": {},
   "outputs": [
    {
     "name": "stdout",
     "output_type": "stream",
     "text": [
      "[1, 1, 2, 3, 4, 4]\n"
     ]
    }
   ],
   "source": [
    "class Solution(object):\n",
    "    def mergeTwoLists(self, l1, l2):\n",
    "        \"\"\"\n",
    "        :type l1: ListNode\n",
    "        :type l2: ListNode\n",
    "        :rtype: ListNode\n",
    "        \"\"\"\n",
    "        tmp = None\n",
    "        if l1 is None:\n",
    "            return l2\n",
    "        if l2 is None:\n",
    "            return l1\n",
    "        if l1.val <= l2.val:\n",
    "            tmp = l1\n",
    "            tmp.next = self.mergeTwoLists(l1.next, l2)\n",
    "        else:\n",
    "            tmp = l2\n",
    "            tmp.next = self.mergeTwoLists(l1, l2.next)\n",
    "        return tmp\n",
    "\n",
    "sol = Solution()\n",
    "sol.mergeTwoLists(l1, l2).print_val()"
   ]
  },
  {
   "cell_type": "code",
   "execution_count": null,
   "metadata": {},
   "outputs": [],
   "source": []
  }
 ],
 "metadata": {
  "kernelspec": {
   "display_name": "Python 3",
   "language": "python",
   "name": "python3"
  },
  "language_info": {
   "codemirror_mode": {
    "name": "ipython",
    "version": 3
   },
   "file_extension": ".py",
   "mimetype": "text/x-python",
   "name": "python",
   "nbconvert_exporter": "python",
   "pygments_lexer": "ipython3",
   "version": "3.6.8"
  }
 },
 "nbformat": 4,
 "nbformat_minor": 2
}
