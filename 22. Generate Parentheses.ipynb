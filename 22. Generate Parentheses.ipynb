{
 "cells": [
  {
   "cell_type": "code",
   "execution_count": 1,
   "metadata": {},
   "outputs": [],
   "source": [
    "import time"
   ]
  },
  {
   "cell_type": "code",
   "execution_count": 10,
   "metadata": {},
   "outputs": [
    {
     "name": "stdout",
     "output_type": "stream",
     "text": [
      "['((()))', '(()())', '(())()', '()(())', '()()()']\n",
      "--- 0.0002930164337158203 seconds ---\n"
     ]
    }
   ],
   "source": [
    "start_time = time.time()\n",
    "\n",
    "class Solution(object):\n",
    "    def dfs(self, left, right, ans, string):\n",
    "        if left > right:\n",
    "            return\n",
    "        if left == 0 and right == 0:\n",
    "            ans.append(string)\n",
    "        if left:\n",
    "            self.dfs(left-1, right, ans, string + \"(\")\n",
    "        if right:\n",
    "            self.dfs(left, right-1, ans, string + \")\")\n",
    "        \n",
    "    def generateParenthesis(self, n):\n",
    "        \"\"\"\n",
    "        :type n: int\n",
    "        :rtype: List[str]\n",
    "        \"\"\"\n",
    "        left = right = n\n",
    "        string = \"\"\n",
    "        ans = []\n",
    "        self.dfs(left, right, ans, string)\n",
    "        return ans\n",
    "        \n",
    "\n",
    "sol = Solution()\n",
    "print(sol.generateParenthesis(3))\n",
    "\n",
    "print(\"--- %s seconds ---\" % (time.time() - start_time))"
   ]
  },
  {
   "cell_type": "code",
   "execution_count": 9,
   "metadata": {},
   "outputs": [
    {
     "name": "stdout",
     "output_type": "stream",
     "text": [
      "['()()()', '()(())', '(())()', '(()())', '((()))']\n",
      "--- 0.0003330707550048828 seconds ---\n"
     ]
    }
   ],
   "source": [
    "start_time = time.time()\n",
    "\n",
    "class Solution(object):\n",
    "    def generateParenthesis(self, n):\n",
    "        \"\"\"\n",
    "        :type n: int\n",
    "        :rtype: List[str]\n",
    "        \"\"\"\n",
    "        ans = []\n",
    "        s = [(\"(\", 1, 0)]\n",
    "        while s:\n",
    "            x, l, r = s.pop()\n",
    "            if r>l or l>n or r>n:\n",
    "                continue\n",
    "            if l==n and r==n:\n",
    "                ans.append(x)\n",
    "            s.append((x+\"(\", l+1, r))\n",
    "            s.append((x+\")\", l, r+1))\n",
    "        return ans\n",
    "        \n",
    "\n",
    "sol = Solution()\n",
    "print(sol.generateParenthesis(3))\n",
    "\n",
    "print(\"--- %s seconds ---\" % (time.time() - start_time))"
   ]
  },
  {
   "cell_type": "code",
   "execution_count": null,
   "metadata": {},
   "outputs": [],
   "source": []
  }
 ],
 "metadata": {
  "kernelspec": {
   "display_name": "Python 3",
   "language": "python",
   "name": "python3"
  },
  "language_info": {
   "codemirror_mode": {
    "name": "ipython",
    "version": 3
   },
   "file_extension": ".py",
   "mimetype": "text/x-python",
   "name": "python",
   "nbconvert_exporter": "python",
   "pygments_lexer": "ipython3",
   "version": "3.6.8"
  }
 },
 "nbformat": 4,
 "nbformat_minor": 2
}
