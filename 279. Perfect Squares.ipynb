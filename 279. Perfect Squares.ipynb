{
 "cells": [
  {
   "cell_type": "code",
   "execution_count": 1,
   "metadata": {},
   "outputs": [],
   "source": [
    "import time"
   ]
  },
  {
   "cell_type": "code",
   "execution_count": 55,
   "metadata": {},
   "outputs": [
    {
     "name": "stdout",
     "output_type": "stream",
     "text": [
      "True\n",
      "True\n",
      "True\n",
      "4\n",
      "--- 70.80112195014954 seconds ---\n"
     ]
    }
   ],
   "source": [
    "start_time = time.time()\n",
    "\n",
    "from collections import deque\n",
    "\n",
    "class Node(object):\n",
    "    def __init__(self, x, d):\n",
    "        self.val = x\n",
    "        self.depth = d\n",
    "        self.node = None\n",
    "        self.remain = []\n",
    "        for i in range(1, x+1):\n",
    "            square = i*i\n",
    "            if square <= x:\n",
    "                self.remain.append(x-square)\n",
    "            else:\n",
    "                break\n",
    "        \n",
    "class Solution(object):\n",
    "    def numSquares(self, n):\n",
    "        \"\"\"\n",
    "        :type n: int\n",
    "        :rtype: int\n",
    "        \"\"\"\n",
    "        queue = deque([Node(n, 0)])\n",
    "        while True:\n",
    "            node = queue.popleft()\n",
    "            for remain in node.remain:\n",
    "                if remain == 0:\n",
    "                    return node.depth + 1\n",
    "                else:\n",
    "                    queue.append(Node(remain, node.depth + 1))\n",
    "\n",
    "sol = Solution()\n",
    "print(sol.numSquares(12) == 3)\n",
    "print(sol.numSquares(13) == 2)\n",
    "print(sol.numSquares(1) == 1)\n",
    "print(sol.numSquares(7168))\n",
    "\n",
    "print(\"--- %s seconds ---\" % (time.time() - start_time))"
   ]
  },
  {
   "cell_type": "code",
   "execution_count": 2,
   "metadata": {},
   "outputs": [
    {
     "name": "stdout",
     "output_type": "stream",
     "text": [
      "3\n",
      "True\n",
      "True\n",
      "True\n",
      "4\n",
      "--- 0.02906489372253418 seconds ---\n"
     ]
    }
   ],
   "source": [
    "start_time = time.time()\n",
    "\n",
    "from collections import deque\n",
    "\n",
    "class Solution(object):\n",
    "    def numSquares(self, n):\n",
    "        \"\"\"\n",
    "        :type n: int\n",
    "        :rtype: int\n",
    "        \"\"\"\n",
    "        if n <= 2:\n",
    "            return n\n",
    "        \n",
    "        squares = []\n",
    "        for i in range(1, n):\n",
    "            sq = i*i\n",
    "            if sq <= n:\n",
    "                squares.append(sq)\n",
    "                \n",
    "        level = 0\n",
    "        to_check = set([n])\n",
    "        while to_check:\n",
    "            level += 1\n",
    "            temp = set()\n",
    "            for remain in to_check:\n",
    "                for square in squares:\n",
    "                    if remain - square == 0:\n",
    "                        return level\n",
    "                    elif remain < square:\n",
    "                        break\n",
    "                    temp.add(remain - square)\n",
    "            to_check = temp\n",
    "\n",
    "sol = Solution()\n",
    "print(sol.numSquares(12) == 3)\n",
    "print(sol.numSquares(13) == 2)\n",
    "print(sol.numSquares(1) == 1)\n",
    "print(sol.numSquares(7168))\n",
    "\n",
    "print(\"--- %s seconds ---\" % (time.time() - start_time))"
   ]
  },
  {
   "cell_type": "code",
   "execution_count": 10,
   "metadata": {},
   "outputs": [
    {
     "name": "stdout",
     "output_type": "stream",
     "text": [
      "remain 27\n",
      "remain 27\n",
      "remain 27\n",
      "remain 27\n",
      "remain 27\n",
      "\n",
      "remain 2\n",
      "remain 11\n",
      "remain 11\n",
      "remain 11\n",
      "remain 18\n",
      "remain 18\n",
      "remain 18\n",
      "remain 18\n",
      "remain 23\n",
      "remain 23\n",
      "remain 23\n",
      "remain 23\n",
      "remain 26\n",
      "remain 26\n",
      "remain 26\n",
      "remain 26\n",
      "remain 26\n",
      "\n",
      "remain 1\n",
      "3\n",
      "--- 0.0012679100036621094 seconds ---\n"
     ]
    }
   ],
   "source": [
    "start_time = time.time()\n",
    "\n",
    "from collections import deque\n",
    "\n",
    "class Solution(object):\n",
    "    def numSquares(self, n):\n",
    "        \"\"\"\n",
    "        :type n: int\n",
    "        :rtype: int\n",
    "        \"\"\"\n",
    "        if n <= 2:\n",
    "            return n\n",
    "        \n",
    "        squares = []\n",
    "        for i in range(1, n):\n",
    "            sq = i*i\n",
    "            if sq <= n:\n",
    "                squares.append(sq)\n",
    "                \n",
    "        level = 0\n",
    "        to_check = set([n])\n",
    "        while to_check:\n",
    "            level += 1\n",
    "            temp = set()\n",
    "            for remain in to_check:\n",
    "                for square in squares:\n",
    "                    if remain - square == 0:\n",
    "                        print('remain', remain)\n",
    "                        return level\n",
    "                    elif remain < square:\n",
    "                        break\n",
    "                    print('remain', remain)\n",
    "                    temp.add(remain - square)\n",
    "            print()\n",
    "            to_check = temp\n",
    "\n",
    "sol = Solution()\n",
    "print(sol.numSquares(27))\n",
    "\n",
    "print(\"--- %s seconds ---\" % (time.time() - start_time))"
   ]
  },
  {
   "cell_type": "code",
   "execution_count": null,
   "metadata": {},
   "outputs": [],
   "source": []
  }
 ],
 "metadata": {
  "kernelspec": {
   "display_name": "Python 3",
   "language": "python",
   "name": "python3"
  },
  "language_info": {
   "codemirror_mode": {
    "name": "ipython",
    "version": 3
   },
   "file_extension": ".py",
   "mimetype": "text/x-python",
   "name": "python",
   "nbconvert_exporter": "python",
   "pygments_lexer": "ipython3",
   "version": "3.6.8"
  }
 },
 "nbformat": 4,
 "nbformat_minor": 2
}
