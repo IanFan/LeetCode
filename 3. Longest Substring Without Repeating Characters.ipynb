{
 "cells": [
  {
   "cell_type": "code",
   "execution_count": 2,
   "metadata": {},
   "outputs": [],
   "source": [
    "import time"
   ]
  },
  {
   "cell_type": "code",
   "execution_count": 29,
   "metadata": {},
   "outputs": [
    {
     "name": "stdout",
     "output_type": "stream",
     "text": [
      "3\n",
      "1\n",
      "3\n",
      "--- 0.0003800392150878906 seconds ---\n"
     ]
    }
   ],
   "source": [
    "start_time = time.time()\n",
    "\n",
    "class Solution(object):\n",
    "    def lengthOfLongestSubstring(self, s):\n",
    "        \"\"\"\n",
    "        :type s: str\n",
    "        :rtype: int\n",
    "        \"\"\"\n",
    "        exist = []\n",
    "        count = 0\n",
    "        longest = 0\n",
    "        for c in s:\n",
    "            if c not in exist:\n",
    "                count += 1\n",
    "                exist.append(c)\n",
    "                if longest < count:\n",
    "                    longest = count\n",
    "            else:\n",
    "                index = exist.index(c)\n",
    "                if index < len(exist)-1:\n",
    "                    exist = exist[index+1:]\n",
    "                    exist.append(c)\n",
    "                    count -= index\n",
    "                else:\n",
    "                    exist = [c]\n",
    "                    count = 1\n",
    "        return longest\n",
    "\n",
    "sol = Solution()\n",
    "print(sol.lengthOfLongestSubstring(\"pwwkew\"))\n",
    "print(sol.lengthOfLongestSubstring(\" \"))\n",
    "print(sol.lengthOfLongestSubstring(\"dvdf\"))\n",
    "\n",
    "print(\"--- %s seconds ---\" % (time.time() - start_time))"
   ]
  },
  {
   "cell_type": "code",
   "execution_count": 34,
   "metadata": {},
   "outputs": [
    {
     "name": "stdout",
     "output_type": "stream",
     "text": [
      "3\n",
      "1\n",
      "3\n",
      "--- 0.0004260540008544922 seconds ---\n"
     ]
    }
   ],
   "source": [
    "start_time = time.time()\n",
    "\n",
    "class Solution(object):\n",
    "    def lengthOfLongestSubstring(self, s):\n",
    "        \"\"\"\n",
    "        :type s: str\n",
    "        :rtype: int\n",
    "        \"\"\"\n",
    "        start = longest = 0\n",
    "        used = {}\n",
    "        for i, c in enumerate(s):\n",
    "            if c in used.keys() and start <= used[c]:\n",
    "                start = used[c]+1\n",
    "            else:\n",
    "                longest = max(longest, i-start+1)\n",
    "            used[c] = i\n",
    "        return longest\n",
    "\n",
    "sol = Solution()\n",
    "print(sol.lengthOfLongestSubstring(\"pwwkew\"))\n",
    "print(sol.lengthOfLongestSubstring(\" \"))\n",
    "print(sol.lengthOfLongestSubstring(\"dvdf\"))\n",
    "\n",
    "print(\"--- %s seconds ---\" % (time.time() - start_time))"
   ]
  },
  {
   "cell_type": "code",
   "execution_count": null,
   "metadata": {},
   "outputs": [],
   "source": []
  }
 ],
 "metadata": {
  "kernelspec": {
   "display_name": "Python 3",
   "language": "python",
   "name": "python3"
  },
  "language_info": {
   "codemirror_mode": {
    "name": "ipython",
    "version": 3
   },
   "file_extension": ".py",
   "mimetype": "text/x-python",
   "name": "python",
   "nbconvert_exporter": "python",
   "pygments_lexer": "ipython3",
   "version": "3.6.8"
  }
 },
 "nbformat": 4,
 "nbformat_minor": 2
}
