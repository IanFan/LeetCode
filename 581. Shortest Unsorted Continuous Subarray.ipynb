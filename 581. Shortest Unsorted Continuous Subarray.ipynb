{
 "cells": [
  {
   "cell_type": "code",
   "execution_count": 1,
   "metadata": {},
   "outputs": [],
   "source": [
    "import time"
   ]
  },
  {
   "cell_type": "code",
   "execution_count": 31,
   "metadata": {},
   "outputs": [
    {
     "name": "stdout",
     "output_type": "stream",
     "text": [
      "5\n",
      "0\n",
      "0\n",
      "2\n",
      "--- 0.0006330013275146484 seconds ---\n"
     ]
    }
   ],
   "source": [
    "start_time = time.time()\n",
    "\n",
    "# Definition for singly-linked list.\n",
    "class ListNode(object):\n",
    "    def __init__(self, x):\n",
    "        self.val = x\n",
    "        self.next = None\n",
    "\n",
    "class Solution(object):\n",
    "    def findUnsortedSubarray(self, nums):\n",
    "        \"\"\"\n",
    "        :type nums: List[int]\n",
    "        :rtype: int\n",
    "        \"\"\"\n",
    "        l, r = 0, len(nums)-1\n",
    "        while l < len(nums)-1 and nums[l] <= nums[l+1]:\n",
    "            l += 1\n",
    "        while r > 0 and nums[r] >= nums[r-1]:\n",
    "            r -= 1\n",
    "        if l >= r:\n",
    "            return 0\n",
    "        sub = nums[l:r+1]\n",
    "        sub_min = min(sub)\n",
    "        sub_max = max(sub)\n",
    "        while l > 0 and sub_min < nums[l-1]:\n",
    "            l -= 1\n",
    "        while r < len(nums)-1 and sub_max > nums[r+1]:\n",
    "            r += 1\n",
    "        return r-l+1\n",
    "\n",
    "sol = Solution()\n",
    "print(sol.findUnsortedSubarray([2, 6, 4, 8, 10, 9, 15])) # 5\n",
    "print(sol.findUnsortedSubarray([1,2,3,4])) # 0\n",
    "print(sol.findUnsortedSubarray([1,2])) # 0\n",
    "print(sol.findUnsortedSubarray([2,1])) # 2\n",
    "\n",
    "print(\"--- %s seconds ---\" % (time.time() - start_time))        "
   ]
  },
  {
   "cell_type": "code",
   "execution_count": null,
   "metadata": {},
   "outputs": [],
   "source": []
  }
 ],
 "metadata": {
  "kernelspec": {
   "display_name": "Python 3",
   "language": "python",
   "name": "python3"
  },
  "language_info": {
   "codemirror_mode": {
    "name": "ipython",
    "version": 3
   },
   "file_extension": ".py",
   "mimetype": "text/x-python",
   "name": "python",
   "nbconvert_exporter": "python",
   "pygments_lexer": "ipython3",
   "version": "3.6.8"
  }
 },
 "nbformat": 4,
 "nbformat_minor": 2
}
