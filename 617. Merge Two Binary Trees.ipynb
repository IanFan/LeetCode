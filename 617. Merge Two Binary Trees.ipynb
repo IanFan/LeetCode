{
 "cells": [
  {
   "cell_type": "code",
   "execution_count": 1,
   "metadata": {},
   "outputs": [],
   "source": [
    "import time"
   ]
  },
  {
   "cell_type": "code",
   "execution_count": 28,
   "metadata": {},
   "outputs": [
    {
     "name": "stdout",
     "output_type": "stream",
     "text": [
      "<__main__.TreeNode object at 0x10f5ccba8>\n",
      "--- 0.0005488395690917969 seconds ---\n"
     ]
    }
   ],
   "source": [
    "from collections import deque\n",
    "\n",
    "start_time = time.time()\n",
    "\n",
    "# Definition for a binary tree node.\n",
    "class TreeNode(object):\n",
    "    def __init__(self, x):\n",
    "        self.val = x\n",
    "        self.left = None\n",
    "        self.right = None\n",
    "\n",
    "\n",
    "class Solution(object):\n",
    "    def mergeTrees(self, t1, t2):\n",
    "        \"\"\"\n",
    "        :type t1: TreeNode\n",
    "        :type t2: TreeNode\n",
    "        :rtype: TreeNode\n",
    "        \"\"\"\n",
    "        if t1 and t2:\n",
    "            root = TreeNode(t1.val + t2.val)\n",
    "            root.left = self.mergeTrees(t1.left, t2.left)\n",
    "            root.right = self.mergeTrees(t1.right, t2.right)\n",
    "            return root\n",
    "        else:\n",
    "            return t1 or t2\n",
    "            \n",
    "'''\n",
    "Input: \n",
    "\tTree 1                     Tree 2                  \n",
    "          1                         2                             \n",
    "         / \\                       / \\                            \n",
    "        3   2                     1   3                        \n",
    "       /                           \\   \\                      \n",
    "      5                             4   7                  \n",
    "Output: \n",
    "Merged tree:\n",
    "\t     3\n",
    "\t    / \\\n",
    "\t   4   5\n",
    "\t  / \\   \\ \n",
    "\t 5   4   7\n",
    "'''\n",
    "\n",
    "t1 = TreeNode(1)\n",
    "t1.left, t1.right = TreeNode(3), TreeNode(2)\n",
    "t1.left.left = TreeNode(5)\n",
    "\n",
    "\n",
    "t2 = TreeNode(2)\n",
    "t2.left, t2.right = TreeNode(1), TreeNode(3)\n",
    "t2.left.right = TreeNode(4)\n",
    "t2.right.right = TreeNode(7)\n",
    "\n",
    "sol = Solution()\n",
    "print(sol.mergeTrees(t1, t2))\n",
    "\n",
    "print(\"--- %s seconds ---\" % (time.time() - start_time))"
   ]
  },
  {
   "cell_type": "code",
   "execution_count": null,
   "metadata": {},
   "outputs": [],
   "source": []
  }
 ],
 "metadata": {
  "kernelspec": {
   "display_name": "Python 3",
   "language": "python",
   "name": "python3"
  },
  "language_info": {
   "codemirror_mode": {
    "name": "ipython",
    "version": 3
   },
   "file_extension": ".py",
   "mimetype": "text/x-python",
   "name": "python",
   "nbconvert_exporter": "python",
   "pygments_lexer": "ipython3",
   "version": "3.6.8"
  }
 },
 "nbformat": 4,
 "nbformat_minor": 2
}
