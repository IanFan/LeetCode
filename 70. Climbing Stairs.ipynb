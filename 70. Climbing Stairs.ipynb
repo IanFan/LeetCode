{
 "cells": [
  {
   "cell_type": "code",
   "execution_count": 3,
   "metadata": {},
   "outputs": [],
   "source": [
    "import time"
   ]
  },
  {
   "cell_type": "code",
   "execution_count": 5,
   "metadata": {},
   "outputs": [
    {
     "name": "stdout",
     "output_type": "stream",
     "text": [
      "3\n",
      "14930352\n",
      "--- 6.825943231582642 seconds ---\n"
     ]
    }
   ],
   "source": [
    "start_time = time.time()\n",
    "\n",
    "class Solution(object):\n",
    "    def climbStairs(self, n):\n",
    "        \"\"\"\n",
    "        :type n: int\n",
    "        :rtype: int\n",
    "        \"\"\"\n",
    "        way = 0\n",
    "        if n > 0 :\n",
    "            if n >= 1:\n",
    "                way += 1\n",
    "                way += self.climbStairs(n-1)\n",
    "                if n > 1:\n",
    "                    way -= 1\n",
    "            if n >= 2:\n",
    "                way += 1\n",
    "                way += self.climbStairs(n-2)\n",
    "                if n > 2:\n",
    "                    way -= 1\n",
    "        return way\n",
    "\n",
    "sol = Solution()\n",
    "print(sol.climbStairs(3))\n",
    "print(sol.climbStairs(35))\n",
    "print(\"--- %s seconds ---\" % (time.time() - start_time))"
   ]
  },
  {
   "cell_type": "code",
   "execution_count": 16,
   "metadata": {},
   "outputs": [
    {
     "name": "stdout",
     "output_type": "stream",
     "text": [
      "0 1\n",
      "1 1\n",
      "2 2\n",
      "3 3\n",
      "4 5\n",
      "5 8\n",
      "6 13\n",
      "7 21\n",
      "8 34\n",
      "9 55\n",
      "10 89\n",
      "11 144\n",
      "12 233\n",
      "13 377\n",
      "14 610\n",
      "15 987\n",
      "16 1597\n",
      "17 2584\n",
      "18 4181\n",
      "19 6765\n",
      "20 10946\n",
      "21 17711\n",
      "22 28657\n",
      "23 46368\n",
      "24 75025\n",
      "25 121393\n",
      "26 196418\n",
      "27 317811\n",
      "28 514229\n",
      "29 832040\n",
      "30 1346269\n",
      "31 2178309\n",
      "32 3524578\n",
      "33 5702887\n",
      "34 9227465\n",
      "35 14930352\n",
      "--- 0.0017628669738769531 seconds ---\n"
     ]
    }
   ],
   "source": [
    "start_time = time.time()\n",
    "\n",
    "class Solution(object):\n",
    "    def climbStairs(self, n):\n",
    "        \"\"\"\n",
    "        :type n: int\n",
    "        :rtype: int\n",
    "        \"\"\"\n",
    "        # steps[n] = steps[n-1] + stpes[n-2]\n",
    "        if n <= 1:\n",
    "            return 1\n",
    "        steps = [1, 1]\n",
    "        for i in range(2, n+1):\n",
    "            steps.append(steps[i-1] + steps[i-2])\n",
    "        return steps[n]\n",
    "        \n",
    "sol = Solution()\n",
    "for i in range(0, 35+1):\n",
    "    print(i, sol.climbStairs(i))\n",
    "print(\"--- %s seconds ---\" % (time.time() - start_time))"
   ]
  },
  {
   "cell_type": "markdown",
   "metadata": {},
   "source": [
    "## Climbing with 1 step, 2 steps and 3 steps"
   ]
  },
  {
   "cell_type": "code",
   "execution_count": 32,
   "metadata": {},
   "outputs": [
    {
     "name": "stdout",
     "output_type": "stream",
     "text": [
      "3 4\n",
      "4 7\n",
      "5 13\n",
      "6 24\n",
      "7 44\n",
      "8 81\n",
      "9 149\n",
      "10 274\n",
      "11 504\n",
      "12 927\n",
      "13 1705\n",
      "14 3136\n",
      "15 5768\n",
      "16 10609\n",
      "17 19513\n",
      "18 35890\n",
      "19 66012\n",
      "20 121415\n",
      "21 223317\n",
      "22 410744\n",
      "23 755476\n",
      "24 1389537\n",
      "25 2555757\n",
      "26 4700770\n",
      "27 8646064\n",
      "28 15902591\n",
      "29 29249425\n",
      "30 53798080\n",
      "31 98950096\n",
      "32 181997601\n",
      "33 334745777\n",
      "34 615693474\n",
      "35 1132436852\n",
      "--- 0.0016639232635498047 seconds ---\n"
     ]
    }
   ],
   "source": [
    "start_time = time.time()\n",
    "\n",
    "class Solution(object):\n",
    "    def climbStairs(self, n):\n",
    "        \"\"\"\n",
    "        :type n: int\n",
    "        :rtype: int\n",
    "        \"\"\"\n",
    "        # steps[n] = steps[n-1] + stpes[n-2]\n",
    "        if n <= 1:\n",
    "            return 1\n",
    "        steps = [1, 1, 2]\n",
    "        for i in range(3, n+1):\n",
    "            steps.append(steps[i-1] + steps[i-2] + steps[i-3])\n",
    "        return steps[n]\n",
    "        \n",
    "sol = Solution()\n",
    "for i in range(3, 35+1):\n",
    "    print(i, sol.climbStairs(i))\n",
    "print(\"--- %s seconds ---\" % (time.time() - start_time))"
   ]
  },
  {
   "cell_type": "code",
   "execution_count": null,
   "metadata": {},
   "outputs": [],
   "source": []
  }
 ],
 "metadata": {
  "kernelspec": {
   "display_name": "Python 3",
   "language": "python",
   "name": "python3"
  },
  "language_info": {
   "codemirror_mode": {
    "name": "ipython",
    "version": 3
   },
   "file_extension": ".py",
   "mimetype": "text/x-python",
   "name": "python",
   "nbconvert_exporter": "python",
   "pygments_lexer": "ipython3",
   "version": "3.6.8"
  }
 },
 "nbformat": 4,
 "nbformat_minor": 2
}
