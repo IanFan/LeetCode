{
 "cells": [
  {
   "cell_type": "code",
   "execution_count": 1,
   "metadata": {},
   "outputs": [],
   "source": [
    "import time"
   ]
  },
  {
   "cell_type": "code",
   "execution_count": 11,
   "metadata": {},
   "outputs": [
    {
     "name": "stdout",
     "output_type": "stream",
     "text": [
      "[0, 0, 1, 1, 2, 2]\n",
      "--- 0.0002751350402832031 seconds ---\n"
     ]
    }
   ],
   "source": [
    "start_time = time.time()\n",
    "\n",
    "class Solution(object):\n",
    "    def sortColors(self, nums):\n",
    "        \"\"\"\n",
    "        :type nums: List[int]\n",
    "        :rtype: None Do not return anything, modify nums in-place instead.\n",
    "        \"\"\"\n",
    "        r = w = b = 0\n",
    "        for n in nums:\n",
    "            if n == 0:\n",
    "                r += 1\n",
    "            elif n == 1:\n",
    "                w += 1\n",
    "            else:\n",
    "                b += 1\n",
    "        # nums.clear()\n",
    "        del nums[:]\n",
    "        nums += [0]*r + [1]*w + [2]*b\n",
    "        return nums\n",
    "    \n",
    "        \n",
    "sol = Solution()\n",
    "print(sol.sortColors([2,0,2,1,1,0])) # [0,0,1,1,2,2]\n",
    "\n",
    "print(\"--- %s seconds ---\" % (time.time() - start_time))"
   ]
  },
  {
   "cell_type": "code",
   "execution_count": 13,
   "metadata": {},
   "outputs": [
    {
     "name": "stdout",
     "output_type": "stream",
     "text": [
      "[0, 0, 1, 1, 2, 2]\n",
      "--- 0.00032901763916015625 seconds ---\n"
     ]
    }
   ],
   "source": [
    "start_time = time.time()\n",
    "\n",
    "class Solution(object):\n",
    "    def sortColors(self, nums):\n",
    "        \"\"\"\n",
    "        :type nums: List[int]\n",
    "        :rtype: None Do not return anything, modify nums in-place instead.\n",
    "        \"\"\"\n",
    "        if len(nums) <= 1:\n",
    "            return nums\n",
    "        \n",
    "        r, w, b = 0, 0, len(nums)-1\n",
    "        while w <= b:\n",
    "            if nums[w] == 0:\n",
    "                nums[r], nums[w] = nums[w], nums[r]\n",
    "                r += 1\n",
    "                w += 1\n",
    "            elif nums[w] == 1:\n",
    "                w += 1\n",
    "            else:\n",
    "                nums[b], nums[w] = nums[w], nums[b]\n",
    "                b -= 1\n",
    "        return nums\n",
    "        \n",
    "sol = Solution()\n",
    "print(sol.sortColors([2,0,2,1,1,0])) # [0,0,1,1,2,2]\n",
    "\n",
    "print(\"--- %s seconds ---\" % (time.time() - start_time))"
   ]
  },
  {
   "cell_type": "code",
   "execution_count": null,
   "metadata": {},
   "outputs": [],
   "source": []
  }
 ],
 "metadata": {
  "kernelspec": {
   "display_name": "Python 3",
   "language": "python",
   "name": "python3"
  },
  "language_info": {
   "codemirror_mode": {
    "name": "ipython",
    "version": 3
   },
   "file_extension": ".py",
   "mimetype": "text/x-python",
   "name": "python",
   "nbconvert_exporter": "python",
   "pygments_lexer": "ipython3",
   "version": "3.6.8"
  }
 },
 "nbformat": 4,
 "nbformat_minor": 2
}
