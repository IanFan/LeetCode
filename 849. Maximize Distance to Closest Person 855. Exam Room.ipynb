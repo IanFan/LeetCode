{
 "cells": [
  {
   "cell_type": "markdown",
   "metadata": {},
   "source": [
    "## 849. Maximize Distance to Closest Person"
   ]
  },
  {
   "cell_type": "code",
   "execution_count": 3,
   "metadata": {},
   "outputs": [
    {
     "data": {
      "text/plain": [
       "2"
      ]
     },
     "execution_count": 3,
     "metadata": {},
     "output_type": "execute_result"
    }
   ],
   "source": [
    "class Solution(object):\n",
    "    def maxDistToClosest(self, seats):\n",
    "        \"\"\"\n",
    "        :type seats: List[int]\n",
    "        :rtype: int\n",
    "        \"\"\"\n",
    "        left = -1\n",
    "        max_dis = 0\n",
    "        count = 0\n",
    "        \n",
    "        for i, x in enumerate(seats):\n",
    "            if x == 0:\n",
    "                count += 1\n",
    "            else:\n",
    "                if left < 0:\n",
    "                    dis = count\n",
    "                else:\n",
    "                    dis = count//2 + count%2\n",
    "                left, count = i, 0\n",
    "                max_dis = max(max_dis, dis)\n",
    "        return max(max_dis, count)\n",
    "        \n",
    "        \n",
    "    \n",
    "    \n",
    "sol = Solution()\n",
    "sol.maxDistToClosest([1,0,0,0,1,0,1]) # 2"
   ]
  },
  {
   "cell_type": "markdown",
   "metadata": {},
   "source": [
    "## 855. Exam Room"
   ]
  },
  {
   "cell_type": "code",
   "execution_count": 8,
   "metadata": {},
   "outputs": [
    {
     "name": "stdout",
     "output_type": "stream",
     "text": [
      "[0, 0, 0, 0, 0, 0, 0, 0, 0, 0]\n",
      "[1, 0, 0, 0, 0, 0, 0, 0, 0, 0]\n",
      "[1, 0, 0, 0, 0, 0, 0, 0, 0, 1]\n",
      "[1, 0, 0, 0, 1, 0, 0, 0, 0, 1]\n",
      "[0, 0, 0, 0, 1, 0, 0, 0, 0, 1]\n",
      "[0, 0, 0, 0, 0, 0, 0, 0, 0, 1]\n",
      "[1, 0, 0, 0, 0, 0, 0, 0, 0, 1]\n",
      "[1, 0, 0, 0, 1, 0, 0, 0, 0, 1]\n",
      "[1, 0, 1, 0, 1, 0, 0, 0, 0, 1]\n",
      "[1, 0, 1, 0, 1, 0, 1, 0, 0, 1]\n",
      "[1, 1, 1, 0, 1, 0, 1, 0, 0, 1]\n",
      "[1, 1, 1, 1, 1, 0, 1, 0, 0, 1]\n",
      "[1, 1, 1, 1, 1, 1, 1, 0, 0, 1]\n",
      "[1, 1, 1, 1, 1, 1, 1, 1, 0, 1]\n",
      "[1, 1, 1, 1, 1, 1, 1, 1, 1, 1]\n",
      "[0, 1, 1, 1, 1, 1, 1, 1, 1, 1]\n"
     ]
    }
   ],
   "source": [
    "class ExamRoom(object):\n",
    "\n",
    "    def __init__(self, N):\n",
    "        \"\"\"\n",
    "        :type N: int\n",
    "        \"\"\"\n",
    "        self.seats = [0]*N\n",
    "\n",
    "    def seat(self):\n",
    "        \"\"\"\n",
    "        :rtype: int\n",
    "        \"\"\"\n",
    "        \n",
    "        left = -1\n",
    "        max_dis = 0\n",
    "        count = 0\n",
    "        pos = 0\n",
    "        \n",
    "        for i, x in enumerate(self.seats):\n",
    "            if x == 0:\n",
    "                count += 1\n",
    "            else:\n",
    "                if left < 0:\n",
    "                    dis = count\n",
    "                else:\n",
    "                    dis = count//2 + count%2\n",
    "                if dis > max_dis:\n",
    "                    max_dis = dis\n",
    "                    if left < 0:\n",
    "                        pos = 0\n",
    "                    else:\n",
    "                        pos = left + max_dis\n",
    "                left, count = i, 0\n",
    "        if count == len(self.seats):\n",
    "            pos = 0\n",
    "        elif count > max_dis:\n",
    "            max_dis = count\n",
    "            pos = left + max_dis\n",
    "        self.seats[pos] = 1\n",
    "        \n",
    "        return pos\n",
    "        \n",
    "\n",
    "    def leave(self, p):\n",
    "        \"\"\"\n",
    "        :type p: int\n",
    "        :rtype: None\n",
    "        \"\"\"\n",
    "        self.seats[p] = 0\n",
    "        \n",
    "\n",
    "\n",
    "# Your ExamRoom object will be instantiated and called as such:\n",
    "# obj = ExamRoom(N)\n",
    "# param_1 = obj.seat()\n",
    "# obj.leave(p)\n",
    "\n",
    "er = ExamRoom(10)\n",
    "print(er.seats)\n",
    "er.seat()\n",
    "print(er.seats)\n",
    "er.seat()\n",
    "print(er.seats)\n",
    "er.seat()\n",
    "print(er.seats)\n",
    "er.leave(0)\n",
    "print(er.seats)\n",
    "er.leave(4)\n",
    "print(er.seats)\n",
    "er.seat()\n",
    "print(er.seats)\n",
    "er.seat()\n",
    "print(er.seats)\n",
    "er.seat()\n",
    "print(er.seats)\n",
    "er.seat()\n",
    "print(er.seats)\n",
    "er.seat()\n",
    "print(er.seats)\n",
    "er.seat()\n",
    "print(er.seats)\n",
    "er.seat()\n",
    "print(er.seats)\n",
    "er.seat()\n",
    "print(er.seats)\n",
    "er.seat()\n",
    "print(er.seats)\n",
    "er.leave(0)\n",
    "print(er.seats)"
   ]
  },
  {
   "cell_type": "code",
   "execution_count": null,
   "metadata": {},
   "outputs": [],
   "source": []
  }
 ],
 "metadata": {
  "kernelspec": {
   "display_name": "Python 3",
   "language": "python",
   "name": "python3"
  },
  "language_info": {
   "codemirror_mode": {
    "name": "ipython",
    "version": 3
   },
   "file_extension": ".py",
   "mimetype": "text/x-python",
   "name": "python",
   "nbconvert_exporter": "python",
   "pygments_lexer": "ipython3",
   "version": "3.6.8"
  }
 },
 "nbformat": 4,
 "nbformat_minor": 2
}
