{
 "cells": [
  {
   "cell_type": "code",
   "execution_count": 8,
   "metadata": {},
   "outputs": [
    {
     "name": "stdout",
     "output_type": "stream",
     "text": [
      "True\n",
      "True\n",
      "True\n"
     ]
    }
   ],
   "source": [
    "class Solution(object):\n",
    "    def isPalindrome(self, x):\n",
    "        \"\"\"\n",
    "        :type x: int\n",
    "        :rtype: bool\n",
    "        \"\"\"\n",
    "        if x < 0:\n",
    "            return False\n",
    "        l = list(str(x))\n",
    "        for i in range(int(len(l)/2)):\n",
    "            if l[i] != l[-i-1]:\n",
    "                return False\n",
    "        return True\n",
    "\n",
    "sol = Solution()\n",
    "print(sol.isPalindrome(121) == True)\n",
    "print(sol.isPalindrome(-121) == False)\n",
    "print(sol.isPalindrome(10) == False)"
   ]
  },
  {
   "cell_type": "code",
   "execution_count": 9,
   "metadata": {},
   "outputs": [
    {
     "name": "stdout",
     "output_type": "stream",
     "text": [
      "True\n",
      "True\n",
      "True\n"
     ]
    }
   ],
   "source": [
    "class Solution(object):\n",
    "    def isPalindrome(self, x):\n",
    "        \"\"\"\n",
    "        :type x: int\n",
    "        :rtype: bool\n",
    "        \"\"\"\n",
    "        if x < 0:\n",
    "            return False\n",
    "        s = str(x)\n",
    "        return s == s[::-1]\n",
    "\n",
    "sol = Solution()\n",
    "print(sol.isPalindrome(121) == True)\n",
    "print(sol.isPalindrome(-121) == False)\n",
    "print(sol.isPalindrome(10) == False)"
   ]
  },
  {
   "cell_type": "code",
   "execution_count": 12,
   "metadata": {},
   "outputs": [
    {
     "name": "stdout",
     "output_type": "stream",
     "text": [
      "False\n",
      "True\n",
      "True\n"
     ]
    }
   ],
   "source": [
    "class Solution(object):\n",
    "    def isPalindrome(self, x):\n",
    "        \"\"\"\n",
    "        :type x: int\n",
    "        :rtype: bool\n",
    "        \"\"\"\n",
    "        if x < 0:\n",
    "            return False\n",
    "        origin = x\n",
    "        reverse = 0\n",
    "        while x > reverse:\n",
    "            remain = int(x/10)\n",
    "            reverse = reverse*10 + x%10\n",
    "            x = remain\n",
    "            if remain == 0:\n",
    "                break\n",
    "        return origin == reverse\n",
    "\n",
    "sol = Solution()\n",
    "print(sol.isPalindrome(121) == True)\n",
    "print(sol.isPalindrome(-121) == False)\n",
    "print(sol.isPalindrome(10) == False)"
   ]
  },
  {
   "cell_type": "code",
   "execution_count": null,
   "metadata": {},
   "outputs": [],
   "source": []
  }
 ],
 "metadata": {
  "kernelspec": {
   "display_name": "Python 3",
   "language": "python",
   "name": "python3"
  },
  "language_info": {
   "codemirror_mode": {
    "name": "ipython",
    "version": 3
   },
   "file_extension": ".py",
   "mimetype": "text/x-python",
   "name": "python",
   "nbconvert_exporter": "python",
   "pygments_lexer": "ipython3",
   "version": "3.6.8"
  }
 },
 "nbformat": 4,
 "nbformat_minor": 2
}
