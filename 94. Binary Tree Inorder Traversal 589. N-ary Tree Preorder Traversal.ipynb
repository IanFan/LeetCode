{
 "cells": [
  {
   "cell_type": "markdown",
   "metadata": {},
   "source": [
    "## 94. Binary Tree Inorder Traversal"
   ]
  },
  {
   "cell_type": "code",
   "execution_count": 4,
   "metadata": {},
   "outputs": [
    {
     "name": "stdout",
     "output_type": "stream",
     "text": [
      "[1, 3, 2]\n"
     ]
    }
   ],
   "source": [
    "\"\"\"\n",
    "Given a binary tree, return the inorder traversal of its nodes' values.\n",
    "\n",
    "Example:\n",
    "\n",
    "Input: [1,null,2,3]\n",
    "   1\n",
    "    \\\n",
    "     2\n",
    "    /\n",
    "   3\n",
    "\n",
    "Output: [1,3,2]\n",
    "Follow up: Recursive solution is trivial, could you do it iteratively?\n",
    "\"\"\"\n",
    "\n",
    "# Definition for a binary tree node.\n",
    "class TreeNode:\n",
    "    def __init__(self, x):\n",
    "        self.val = x\n",
    "        self.left = None\n",
    "        self.right = None\n",
    "\n",
    "class Solution:\n",
    "    def inorderTraversal(self, root: TreeNode):\n",
    "        res = []\n",
    "        self.dfs(root, res)\n",
    "        return res\n",
    "    \n",
    "    def dfs(self, node, res):\n",
    "        if not node:\n",
    "            return\n",
    "        self.dfs(node.left, res)\n",
    "        res.append(node.val)\n",
    "        self.dfs(node.right, res)\n",
    "        \n",
    "class Solution:\n",
    "    def inorderTraversal(self, root: TreeNode):\n",
    "        res = []\n",
    "        stack = []\n",
    "        cur = root\n",
    "        while stack or cur:\n",
    "            if cur:\n",
    "                stack.append(cur)\n",
    "                cur = cur.left\n",
    "            else:\n",
    "                node = stack.pop()\n",
    "                res.append(node.val)\n",
    "                cur = node.right\n",
    "        return res\n",
    "    \n",
    "t = TreeNode(1)\n",
    "t.right = TreeNode(2)\n",
    "t.right.left = TreeNode(3)\n",
    "sol = Solution()\n",
    "print(sol.inorderTraversal(t))"
   ]
  },
  {
   "cell_type": "markdown",
   "metadata": {},
   "source": [
    "## 589. N-ary Tree Preorder Traversal"
   ]
  },
  {
   "cell_type": "code",
   "execution_count": 21,
   "metadata": {},
   "outputs": [
    {
     "name": "stdout",
     "output_type": "stream",
     "text": [
      "[1, 3, 5, 6, 2, 4]\n"
     ]
    }
   ],
   "source": [
    "\"\"\"\n",
    "Given an n-ary tree, return the preorder traversal of its nodes' values.\n",
    "\n",
    "For example, given a 3-ary tree:\n",
    "     1\n",
    "   / | \\\n",
    "  3  2  4\n",
    " / \\\n",
    "5   6\n",
    "\n",
    "Return its preorder traversal as: [1,3,5,6,2,4].\n",
    "\n",
    " \n",
    "\n",
    "Note:\n",
    "\n",
    "Recursive solution is trivial, could you do it iteratively?\n",
    "\"\"\"\n",
    "\n",
    "# Definition for a Node.\n",
    "class Node:\n",
    "    def __init__(self, val, children):\n",
    "        self.val = val\n",
    "        self.children = children\n",
    "        \n",
    "class Solution:\n",
    "    def preorder(self, root: 'Node'):\n",
    "        res = []\n",
    "        self.dfs(root, res)\n",
    "        return res\n",
    "        \n",
    "    def dfs(self, node, res):\n",
    "        if not node:\n",
    "            return\n",
    "        res.append(node.val)\n",
    "        for child in node.children:\n",
    "            self.dfs(child, res)\n",
    "\n",
    "class Solution:\n",
    "    def preorder(self, root: 'Node'):\n",
    "        if not root: \n",
    "            return []\n",
    "        stack = [root]\n",
    "        res = []\n",
    "        while stack:\n",
    "            node = stack.pop()\n",
    "            res.append(node.val)\n",
    "            stack.extend(node.children[::-1])\n",
    "        return res   \n",
    "\n",
    "children2 = [Node(5, []), Node(6, [])]\n",
    "children1 = [Node(3, children2), Node(2, []), Node(4, [])]\n",
    "t = Node(1, children1)\n",
    "sol = Solution()\n",
    "print(sol.preorder(t))"
   ]
  },
  {
   "cell_type": "code",
   "execution_count": null,
   "metadata": {},
   "outputs": [],
   "source": []
  }
 ],
 "metadata": {
  "kernelspec": {
   "display_name": "Python 3",
   "language": "python",
   "name": "python3"
  },
  "language_info": {
   "codemirror_mode": {
    "name": "ipython",
    "version": 3
   },
   "file_extension": ".py",
   "mimetype": "text/x-python",
   "name": "python",
   "nbconvert_exporter": "python",
   "pygments_lexer": "ipython3",
   "version": "3.6.8"
  }
 },
 "nbformat": 4,
 "nbformat_minor": 2
}
