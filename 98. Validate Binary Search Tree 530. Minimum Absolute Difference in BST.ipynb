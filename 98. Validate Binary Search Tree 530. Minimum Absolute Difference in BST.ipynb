{
 "cells": [
  {
   "cell_type": "markdown",
   "metadata": {},
   "source": [
    "## 98. Validate Binary Search Tree"
   ]
  },
  {
   "cell_type": "code",
   "execution_count": 15,
   "metadata": {},
   "outputs": [
    {
     "name": "stdout",
     "output_type": "stream",
     "text": [
      "True\n",
      "False\n",
      "False\n",
      "False\n"
     ]
    }
   ],
   "source": [
    "\"\"\"\n",
    "Given a binary tree, determine if it is a valid binary search tree (BST).\n",
    "\n",
    "Assume a BST is defined as follows:\n",
    "\n",
    "The left subtree of a node contains only nodes with keys less than the node's key.\n",
    "The right subtree of a node contains only nodes with keys greater than the node's key.\n",
    "Both the left and right subtrees must also be binary search trees.\n",
    " \n",
    "\n",
    "Example 1:\n",
    "\n",
    "    2\n",
    "   / \\\n",
    "  1   3\n",
    "\n",
    "Input: [2,1,3]\n",
    "Output: true\n",
    "Example 2:\n",
    "\n",
    "    5\n",
    "   / \\\n",
    "  1   4\n",
    "     / \\\n",
    "    3   6\n",
    "\n",
    "Input: [5,1,4,null,null,3,6]\n",
    "Output: false\n",
    "Explanation: The root node's value is 5 but its right child's value is 4.\n",
    "\"\"\"\n",
    "\n",
    "# Definition for a binary tree node.\n",
    "class TreeNode:\n",
    "    def __init__(self, x):\n",
    "        self.val = x\n",
    "        self.left = None\n",
    "        self.right = None\n",
    "\n",
    "class Solution:\n",
    "    def isValidBST(self, root: TreeNode) -> bool:\n",
    "        if not root:\n",
    "            return True\n",
    "        return self.dfs(root, float('inf'), float('-inf'))\n",
    "        \n",
    "    def dfs(self, node, less_than, greater_than):\n",
    "        if not node:\n",
    "            return True\n",
    "        if node.val >= less_than or node.val <= greater_than:\n",
    "            return False\n",
    "        l = self.dfs(node.left, min(less_than, node.val), greater_than)\n",
    "        r = self.dfs(node.right, less_than, max(greater_than, node.val))\n",
    "        return l and r\n",
    "        \n",
    "t1 = TreeNode(2)\n",
    "t1.left = TreeNode(1)\n",
    "t1.right = TreeNode(3)\n",
    "\n",
    "t2 = TreeNode(5)\n",
    "t2.left = TreeNode(1)\n",
    "t2.right = TreeNode(4)\n",
    "t2.right.left = TreeNode(3)\n",
    "t2.right.right = TreeNode(6)\n",
    "\n",
    "t3 = TreeNode(1)\n",
    "t3.left = TreeNode(1)\n",
    "\n",
    "t4 = TreeNode(10)\n",
    "t4.left = TreeNode(5)\n",
    "t4.right = TreeNode(15)\n",
    "t4.right.left = TreeNode(6)\n",
    "t4.right.right = TreeNode(20)\n",
    "\n",
    "sol = Solution()\n",
    "print(sol.isValidBST(t1)) # True\n",
    "print(sol.isValidBST(t2)) # False\n",
    "print(sol.isValidBST(t3)) # False\n",
    "print(sol.isValidBST(t4)) # False"
   ]
  },
  {
   "cell_type": "markdown",
   "metadata": {},
   "source": [
    "## 530. Minimum Absolute Difference in BST"
   ]
  },
  {
   "cell_type": "code",
   "execution_count": 19,
   "metadata": {},
   "outputs": [
    {
     "name": "stdout",
     "output_type": "stream",
     "text": [
      "1\n"
     ]
    }
   ],
   "source": [
    "\"\"\"\n",
    "Given a binary search tree with non-negative values, find the minimum absolute difference between values of any two nodes.\n",
    "\n",
    "Example:\n",
    "\n",
    "Input:\n",
    "\n",
    "   1\n",
    "    \\\n",
    "     3\n",
    "    /\n",
    "   2\n",
    "\n",
    "Output:\n",
    "1\n",
    "\n",
    "Explanation:\n",
    "The minimum absolute difference is 1, which is the difference between 2 and 1 (or between 2 and 3).\n",
    " \n",
    "\n",
    "Note: There are at least two nodes in this BST.\n",
    "\"\"\"\n",
    "\n",
    "# Definition for a binary tree node.\n",
    "class TreeNode:\n",
    "    def __init__(self, x):\n",
    "        self.val = x\n",
    "        self.left = None\n",
    "        self.right = None\n",
    "\n",
    "class Solution:\n",
    "    def getMinimumDifference(self, root: TreeNode) -> int:\n",
    "        res = []\n",
    "        self.dfs(root, res)\n",
    "        min_diff = float('inf')\n",
    "        for i in range(1, len(res)):\n",
    "            diff = res[i] - res[i-1]\n",
    "            min_diff = min(min_diff, diff)\n",
    "        return min_diff\n",
    "        \n",
    "    def dfs(self, node, res):\n",
    "        if not node:\n",
    "            return\n",
    "        self.dfs(node.left, res)\n",
    "        res.append(node.val)\n",
    "        self.dfs(node.right, res)\n",
    "        \n",
    "        \n",
    "t1 = TreeNode(1)\n",
    "t1.right = TreeNode(3)\n",
    "t1.right.left = TreeNode(2)\n",
    "\n",
    "sol = Solution()\n",
    "print(sol.getMinimumDifference(t1))"
   ]
  },
  {
   "cell_type": "code",
   "execution_count": null,
   "metadata": {},
   "outputs": [],
   "source": []
  }
 ],
 "metadata": {
  "kernelspec": {
   "display_name": "Python 3",
   "language": "python",
   "name": "python3"
  },
  "language_info": {
   "codemirror_mode": {
    "name": "ipython",
    "version": 3
   },
   "file_extension": ".py",
   "mimetype": "text/x-python",
   "name": "python",
   "nbconvert_exporter": "python",
   "pygments_lexer": "ipython3",
   "version": "3.6.8"
  }
 },
 "nbformat": 4,
 "nbformat_minor": 2
}
