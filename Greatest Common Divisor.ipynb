{
 "cells": [
  {
   "cell_type": "code",
   "execution_count": 5,
   "metadata": {},
   "outputs": [
    {
     "name": "stdout",
     "output_type": "stream",
     "text": [
      "120 150\n",
      "120 30\n",
      "30\n"
     ]
    }
   ],
   "source": [
    "class Solution(object):\n",
    "    def gcd(self, a, b):\n",
    "        \"\"\"\n",
    "        :type s: str\n",
    "        :rtype: str\n",
    "        \"\"\"\n",
    "        while a != 0 and b != 0:\n",
    "            print(a, b)\n",
    "            if a > b:\n",
    "                a = a % b\n",
    "            else:\n",
    "                b = b % a\n",
    "        return max(a, b)\n",
    "\n",
    "s = Solution()\n",
    "print(s.gcd(120, 150)) # holle"
   ]
  },
  {
   "cell_type": "code",
   "execution_count": null,
   "metadata": {},
   "outputs": [],
   "source": []
  }
 ],
 "metadata": {
  "kernelspec": {
   "display_name": "Python 3",
   "language": "python",
   "name": "python3"
  },
  "language_info": {
   "codemirror_mode": {
    "name": "ipython",
    "version": 3
   },
   "file_extension": ".py",
   "mimetype": "text/x-python",
   "name": "python",
   "nbconvert_exporter": "python",
   "pygments_lexer": "ipython3",
   "version": "3.6.8"
  }
 },
 "nbformat": 4,
 "nbformat_minor": 2
}
