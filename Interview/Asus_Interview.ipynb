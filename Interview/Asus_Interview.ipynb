{
 "cells": [
  {
   "cell_type": "markdown",
   "metadata": {},
   "source": [
    "## Asus\n",
    "面試官：廖俊宇"
   ]
  },
  {
   "cell_type": "code",
   "execution_count": 11,
   "metadata": {},
   "outputs": [
    {
     "name": "stdout",
     "output_type": "stream",
     "text": [
      "1\n"
     ]
    }
   ],
   "source": [
    "def longest_continue_array(lst):\n",
    "    if not lst:\n",
    "        return 0\n",
    "    if len(lst) <= 1:\n",
    "        return 1\n",
    "    \n",
    "    lst = sorted(lst)\n",
    "    count = 1\n",
    "    max_count = 1\n",
    "    for i in range(1, len(lst)):\n",
    "        if lst[i] == lst[i-1]+1:\n",
    "             count += 1\n",
    "        else:\n",
    "            if count > max_count:\n",
    "                max_count = count\n",
    "                count = 1\n",
    "    if count > max_count:\n",
    "        max_count = count\n",
    "    return max_count\n",
    "    \n",
    "lst = [1, 9, 3, 10, 4, 20, 2]\n",
    "lst = [3, 3, 3]\n",
    "print(longest_continue_array(lst))"
   ]
  },
  {
   "cell_type": "code",
   "execution_count": null,
   "metadata": {},
   "outputs": [],
   "source": []
  }
 ],
 "metadata": {
  "kernelspec": {
   "display_name": "Python 3",
   "language": "python",
   "name": "python3"
  },
  "language_info": {
   "codemirror_mode": {
    "name": "ipython",
    "version": 3
   },
   "file_extension": ".py",
   "mimetype": "text/x-python",
   "name": "python",
   "nbconvert_exporter": "python",
   "pygments_lexer": "ipython3",
   "version": "3.6.8"
  }
 },
 "nbformat": 4,
 "nbformat_minor": 2
}
