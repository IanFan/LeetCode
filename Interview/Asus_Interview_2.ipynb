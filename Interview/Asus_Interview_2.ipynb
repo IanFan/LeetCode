{
 "cells": [
  {
   "cell_type": "markdown",
   "metadata": {},
   "source": [
    "作答平台 https://codeinterview.io/RMKMMHAACR  \n",
    "面試官（兩位）Simon"
   ]
  },
  {
   "cell_type": "code",
   "execution_count": 3,
   "metadata": {},
   "outputs": [],
   "source": [
    "# 有M位候選人\n",
    "# N是投票結果，一定會投一位候選人（1<=投票對象<=M），沒有廢票\n",
    "# 候選人得票數過半才當選\n",
    "# 沒有候選人得票數過半，則回傳Null\n",
    "\n",
    "# M candidate\n",
    "# N voter\n",
    "# N -> [1,2,3,1,1,1,1,1]\n",
    "# > N/2\n",
    "\n",
    "\n",
    "\n",
    "\n",
    "\n",
    "\n",
    "\n",
    "\n",
    "\n",
    "\n",
    "\n",
    "\n",
    "\n",
    "\n",
    "\n",
    "\n",
    "\n",
    "\n",
    "\n",
    "\n",
    "\n",
    "\n",
    "\n",
    "\n"
   ]
  },
  {
   "cell_type": "markdown",
   "metadata": {},
   "source": [
    "## 面試時的程式"
   ]
  },
  {
   "cell_type": "code",
   "execution_count": null,
   "metadata": {},
   "outputs": [],
   "source": [
    "def vote(N):\n",
    "    dic = dict()\n",
    "    for n in N:\n",
    "        if n in dic:\n",
    "            dic[n] += 1\n",
    "        else:\n",
    "            dic[n] = 1\n",
    "    max_vote = 0\n",
    "    potential_m = None\n",
    "    for k, v in dic.items():\n",
    "        if v > max_vote:\n",
    "            max_vote = v\n",
    "            potential_m = k\n",
    "    if max_vote > len(N)/2:\n",
    "        return potential_m\n",
    "    else:\n",
    "        return None\n",
    "\n",
    "print(vote([1,2,3,1,1]))\n",
    "\n",
    "# [1,2,2,2,3,3,3,4,5]\n",
    "\n",
    "# 有哪些可能的方法可以解決這個問題\n",
    "# 時間複雜度、空間複雜度\n",
    "# 如何改進\n",
    "# 如果N已排序，如何降低時間複雜度、降低空間複雜度"
   ]
  },
  {
   "cell_type": "markdown",
   "metadata": {},
   "source": [
    "## LeetCode  類似題目\n",
    "LeetCode 169. Majority Element  \n",
    "https://leetcode.com/problems/majority-element/  \n",
    "Solution  \n",
    "https://leetcode.com/problems/majority-element/discuss/51712/Python-different-solutions-(dictionary-bit-manipulation-sorting-divide-and-conquer-brute-force-etc)  \n",
    "花花醬講解  \n",
    "https://www.youtube.com/watch?v=LPIvL-jvGdA&feature=youtu.be"
   ]
  },
  {
   "cell_type": "code",
   "execution_count": null,
   "metadata": {},
   "outputs": [],
   "source": []
  }
 ],
 "metadata": {
  "kernelspec": {
   "display_name": "Python 3",
   "language": "python",
   "name": "python3"
  },
  "language_info": {
   "codemirror_mode": {
    "name": "ipython",
    "version": 3
   },
   "file_extension": ".py",
   "mimetype": "text/x-python",
   "name": "python",
   "nbconvert_exporter": "python",
   "pygments_lexer": "ipython3",
   "version": "3.6.8"
  }
 },
 "nbformat": 4,
 "nbformat_minor": 2
}
