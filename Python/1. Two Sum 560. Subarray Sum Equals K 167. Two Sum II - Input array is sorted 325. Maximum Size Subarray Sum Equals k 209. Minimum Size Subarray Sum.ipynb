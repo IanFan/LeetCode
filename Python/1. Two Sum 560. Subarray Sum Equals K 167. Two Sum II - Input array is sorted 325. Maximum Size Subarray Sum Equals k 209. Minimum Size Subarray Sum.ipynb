{
 "cells": [
  {
   "cell_type": "markdown",
   "metadata": {},
   "source": [
    "## 1. Two Sum"
   ]
  },
  {
   "cell_type": "code",
   "execution_count": 27,
   "metadata": {},
   "outputs": [
    {
     "name": "stdout",
     "output_type": "stream",
     "text": [
      "[0, 1]\n",
      "[]\n"
     ]
    }
   ],
   "source": [
    "\"\"\"\n",
    "Given an array of integers, return indices of the two numbers such that they add up to a specific target.\n",
    "\n",
    "You may assume that each input would have exactly one solution, and you may not use the same element twice.\n",
    "\n",
    "Example:\n",
    "\n",
    "Given nums = [2, 7, 11, 15], target = 9,\n",
    "\n",
    "Because nums[0] + nums[1] = 2 + 7 = 9,\n",
    "return [0, 1].\n",
    "\"\"\"\n",
    "\n",
    "class Solution:\n",
    "    def twoSum(self, nums, target: int):\n",
    "        if not nums or len(nums) <= 1:\n",
    "            return []\n",
    "        res = []\n",
    "        for i in range(len(nums)-1):\n",
    "            val = target - nums[i]\n",
    "            for j in range(i+1, len(nums)):\n",
    "                if nums[j] == val:\n",
    "                    return [i, j]\n",
    "        return [] \n",
    "    \n",
    "    def twoSum(self, nums, target: int):\n",
    "        if not nums or len(nums) <= 1:\n",
    "            return []\n",
    "        dic = dict()\n",
    "        for i, n in enumerate(nums):\n",
    "            dic[n] = i\n",
    "        for i, n in enumerate(nums):\n",
    "            if (target - n) in dic.keys() and dic[target - n] != i:\n",
    "                return [i, dic[target - n]]\n",
    "        return []\n",
    "    \n",
    "    def twoSum(self, nums, target: int):\n",
    "        if not nums or len(nums) <= 1:\n",
    "            return []\n",
    "        dic = dict()\n",
    "        for i, n in enumerate(nums):\n",
    "            m = target - n\n",
    "            if m in dic.keys():\n",
    "                return [dic[m], i]\n",
    "            else:\n",
    "                dic[n] = i\n",
    "        \n",
    "sol = Solution()\n",
    "print(sol.twoSum([2, 7, 11, 15], 9))\n",
    "print(sol.twoSum([0,], 9))"
   ]
  },
  {
   "cell_type": "markdown",
   "metadata": {},
   "source": [
    "## 167. Two Sum II - Input array is sorted"
   ]
  },
  {
   "cell_type": "code",
   "execution_count": 92,
   "metadata": {},
   "outputs": [
    {
     "name": "stdout",
     "output_type": "stream",
     "text": [
      "[1, 2]\n",
      "[]\n"
     ]
    }
   ],
   "source": [
    "\"\"\"\n",
    "Given an array of integers that is already sorted in ascending order, find two numbers such that they add up to a specific target number.\n",
    "\n",
    "The function twoSum should return indices of the two numbers such that they add up to the target, where index1 must be less than index2.\n",
    "\n",
    "Note:\n",
    "\n",
    "Your returned answers (both index1 and index2) are not zero-based.\n",
    "You may assume that each input would have exactly one solution and you may not use the same element twice.\n",
    "Example:\n",
    "\n",
    "Input: numbers = [2,7,11,15], target = 9\n",
    "Output: [1,2]\n",
    "Explanation: The sum of 2 and 7 is 9. Therefore index1 = 1, index2 = 2.\n",
    "\"\"\"\n",
    "\n",
    "class Solution:\n",
    "    def twoSum(self, numbers, target: int):\n",
    "        dic = dict()\n",
    "        for i, n in enumerate(numbers):\n",
    "            if target - n in dic:\n",
    "                return [dic[target - n], i+1]\n",
    "            else:\n",
    "                dic[n] = i+1\n",
    "        return []\n",
    "    \n",
    "sol = Solution()\n",
    "print(sol.twoSum([2, 7, 11, 15], 9))\n",
    "print(sol.twoSum([0,], 9))"
   ]
  },
  {
   "cell_type": "markdown",
   "metadata": {},
   "source": [
    "## 560. Subarray Sum Equals K"
   ]
  },
  {
   "cell_type": "code",
   "execution_count": 73,
   "metadata": {},
   "outputs": [
    {
     "name": "stdout",
     "output_type": "stream",
     "text": [
      "2\n"
     ]
    }
   ],
   "source": [
    "\"\"\"\n",
    "Given an array of integers and an integer k, you need to find the total number of continuous subarrays whose sum equals to k.\n",
    "\n",
    "Example 1:\n",
    "\n",
    "Input:nums = [1,1,1], k = 2\n",
    "Output: 2\n",
    "Note:\n",
    "\n",
    "The length of the array is in range [1, 20,000].\n",
    "The range of numbers in the array is [-1000, 1000] and the range of the integer k is [-1e7, 1e7].\n",
    "\"\"\"\n",
    "\n",
    "class Solution:\n",
    "    def subarraySum(self, nums, k: int) -> int:\n",
    "        if not nums:\n",
    "            return 0\n",
    "        dic = dict({0:1})\n",
    "        count = 0\n",
    "        ans = 0\n",
    "        for i, n in enumerate(nums):\n",
    "            count += n\n",
    "            if count - k in dic:\n",
    "                ans += dic[count-k]\n",
    "                dic[count-k] += 1\n",
    "            if count in dic:\n",
    "                dic[count] += 1\n",
    "            else:\n",
    "                dic[count] = 1\n",
    "        return ans\n",
    "        \n",
    "sol = Solution()\n",
    "print(sol.subarraySum([1, 3, 1], 4))"
   ]
  },
  {
   "cell_type": "markdown",
   "metadata": {},
   "source": [
    "## 325 Maximum Size Subarray Sum Equals k"
   ]
  },
  {
   "cell_type": "code",
   "execution_count": 74,
   "metadata": {},
   "outputs": [
    {
     "name": "stdout",
     "output_type": "stream",
     "text": [
      "2\n"
     ]
    }
   ],
   "source": [
    "\"\"\"\n",
    "Given an array nums and a target value k, find the maximum length of a subarray that sums to k. \n",
    "If there isn't one, return 0 instead.\n",
    "\"\"\"\n",
    "\n",
    "class Solution:\n",
    "    def maximumSizeSubarraySum(self, nums, k: int) -> int:\n",
    "        if not nums:\n",
    "            return 0\n",
    "        dic = dict({0:-1})\n",
    "        count = 0\n",
    "        ans = 0\n",
    "        for i, n in enumerate(nums):\n",
    "            count += n\n",
    "            if count - k in dic:\n",
    "                ans = max(ans, i - dic[count - k])\n",
    "            if count not in dic:\n",
    "                dic[count] = i\n",
    "        return ans\n",
    "        \n",
    "sol = Solution()\n",
    "print(sol.maximumSizeSubarraySum([1, 3, 1], 4))"
   ]
  },
  {
   "cell_type": "markdown",
   "metadata": {},
   "source": [
    "## 209. Minimum Size Subarray Sum"
   ]
  },
  {
   "cell_type": "code",
   "execution_count": 89,
   "metadata": {},
   "outputs": [
    {
     "name": "stdout",
     "output_type": "stream",
     "text": [
      "2\n",
      "0\n",
      "1\n"
     ]
    }
   ],
   "source": [
    "\"\"\"\n",
    "Given an array of n positive integers and a positive integer s, find the minimal length of a contiguous subarray of which the sum ≥ s. If there isn't one, return 0 instead.\n",
    "\n",
    "Example: \n",
    "\n",
    "Input: s = 7, nums = [2,3,1,2,4,3]\n",
    "Output: 2\n",
    "Explanation: the subarray [4,3] has the minimal length under the problem constraint.\n",
    "Follow up:\n",
    "If you have figured out the O(n) solution, try coding another solution of which the time complexity is O(n log n). \n",
    "\"\"\"\n",
    "\n",
    "class Solution:\n",
    "    def minSubArrayLen(self, s: int, nums) -> int:\n",
    "        if not nums:\n",
    "            return 0\n",
    "        count = 0\n",
    "        start = 0\n",
    "        ans = float('inf')\n",
    "        for i, n in enumerate(nums):\n",
    "            count += n\n",
    "            while count >= s:\n",
    "                ans = min(ans, i - start + 1)\n",
    "                count -= nums[start]\n",
    "                start += 1\n",
    "        if ans == float('inf'):\n",
    "            ans = 0\n",
    "        return ans\n",
    "    \n",
    "#         N = len(nums)\n",
    "#         l, r = 0, 0\n",
    "#         csum = 0\n",
    "#         res = float('inf')\n",
    "#         while r < N:\n",
    "#             csum += nums[r]\n",
    "#             while csum >= s:\n",
    "#                 res = min(res, r - l + 1)\n",
    "#                 csum -= nums[l]\n",
    "#                 l += 1\n",
    "#             r += 1\n",
    "#         return res if res != float('inf') else 0\n",
    "    \n",
    "#     public int minSubArrayLen(int s, int[] nums) {\n",
    "#         int sum = 0, from = 0, win = Integer.MAX_VALUE;\n",
    "#         for (int i = 0; i < nums.length; i++) {\n",
    "#             sum += nums[i];\n",
    "#             while (sum >= s) {\n",
    "#                 win = Math.min(win, i - from + 1);\n",
    "#                 sum -= nums[from++];\n",
    "#             }\n",
    "#         }\n",
    "#         return (win == Integer.MAX_VALUE) ? 0 : win;\n",
    "#     } \n",
    "        \n",
    "sol = Solution()\n",
    "print(sol.minSubArrayLen(7, [2,3,1,2,4,3])) # 2\n",
    "print(sol.minSubArrayLen(3, [1,1])) # 0\n",
    "print(sol.minSubArrayLen(6, [10,2,3])) # 1"
   ]
  },
  {
   "cell_type": "code",
   "execution_count": null,
   "metadata": {},
   "outputs": [],
   "source": []
  }
 ],
 "metadata": {
  "kernelspec": {
   "display_name": "Python 3",
   "language": "python",
   "name": "python3"
  },
  "language_info": {
   "codemirror_mode": {
    "name": "ipython",
    "version": 3
   },
   "file_extension": ".py",
   "mimetype": "text/x-python",
   "name": "python",
   "nbconvert_exporter": "python",
   "pygments_lexer": "ipython3",
   "version": "3.6.8"
  }
 },
 "nbformat": 4,
 "nbformat_minor": 2
}
