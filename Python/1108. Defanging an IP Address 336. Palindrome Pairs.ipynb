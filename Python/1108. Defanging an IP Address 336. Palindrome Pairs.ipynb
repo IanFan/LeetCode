{
 "cells": [
  {
   "cell_type": "markdown",
   "metadata": {},
   "source": [
    "## 1108. Defanging an IP Address"
   ]
  },
  {
   "cell_type": "code",
   "execution_count": 2,
   "metadata": {},
   "outputs": [
    {
     "name": "stdout",
     "output_type": "stream",
     "text": [
      "1[.]1[.]1[.]1\n"
     ]
    }
   ],
   "source": [
    "\"\"\"\n",
    "Given a valid (IPv4) IP address, return a defanged version of that IP address.\n",
    "\n",
    "A defanged IP address replaces every period \".\" with \"[.]\".\n",
    "\n",
    " \n",
    "\n",
    "Example 1:\n",
    "\n",
    "Input: address = \"1.1.1.1\"\n",
    "Output: \"1[.]1[.]1[.]1\"\n",
    "Example 2:\n",
    "\n",
    "Input: address = \"255.100.50.0\"\n",
    "Output: \"255[.]100[.]50[.]0\"\n",
    " \n",
    "\n",
    "Constraints:\n",
    "\n",
    "The given address is a valid IPv4 address.\n",
    "\"\"\"\n",
    "\n",
    "class Solution:\n",
    "    def defangIPaddr(self, address: str) -> str:\n",
    "        address = address.replace('.', '[.]')\n",
    "        return address\n",
    "    \n",
    "    def defangIPaddr(self, address: str) -> str:\n",
    "        lst = list(address)\n",
    "        for i, c in enumerate(lst):\n",
    "            if c == '.':\n",
    "                lst[i] = '[.]'\n",
    "        return ''.join(lst)\n",
    "    \n",
    "    def defangIPaddr(self, address: str) -> str:\n",
    "        for i in range(len(address))[::-1]:\n",
    "            if address[i] == '.':\n",
    "                address = address[:i] + '[.]' + address[i+1:]\n",
    "        return address\n",
    "    \n",
    "sol = Solution()\n",
    "print(sol.defangIPaddr(\"1.1.1.1\"))"
   ]
  },
  {
   "cell_type": "markdown",
   "metadata": {},
   "source": [
    "## 336. Palindrome Pairs"
   ]
  },
  {
   "cell_type": "code",
   "execution_count": 11,
   "metadata": {},
   "outputs": [
    {
     "name": "stdout",
     "output_type": "stream",
     "text": [
      "[[0, 1], [1, 0], [2, 4], [3, 2]]\n",
      "[[12, 93], [12, 171], [12, 174], [13, 172], [44, 76], [49, 142], [76, 102], [81, 185], [89, 129], [93, 12], [98, 220], [102, 290], [104, 13], [172, 12], [172, 174], [174, 13], [174, 172], [176, 44], [185, 44], [185, 286], [245, 308], [250, 104], [257, 44], [261, 185], [283, 193], [290, 13], [302, 261], [308, 129], [308, 245]]\n",
      "--- 0.18149018287658691 seconds ---\n"
     ]
    }
   ],
   "source": [
    "\"\"\"\n",
    "Given a list of unique words, find all pairs of distinct indices (i, j) in the given list, so that the concatenation of the two words, i.e. words[i] + words[j] is a palindrome.\n",
    "\n",
    "Example 1:\n",
    "\n",
    "Input: [\"abcd\",\"dcba\",\"lls\",\"s\",\"sssll\"]\n",
    "Output: [[0,1],[1,0],[3,2],[2,4]] \n",
    "Explanation: The palindromes are [\"dcbaabcd\",\"abcddcba\",\"slls\",\"llssssll\"]\n",
    "Example 2:\n",
    "\n",
    "Input: [\"bat\",\"tab\",\"cat\"]\n",
    "Output: [[0,1],[1,0]] \n",
    "Explanation: The palindromes are [\"battab\",\"tabbat\"]\n",
    "\"\"\"\n",
    "\n",
    "import time\n",
    "start = time.time()\n",
    "\n",
    "class Solution:\n",
    "    def palindromePairs(self, words):\n",
    "        if not words:\n",
    "            return []\n",
    "        if len(words) <= 1:\n",
    "            return []\n",
    "        cand = [x for x in range(len(words))]\n",
    "        res = []\n",
    "        self.dfs(words, cand, res, 0, [])\n",
    "        return res\n",
    "        \n",
    "    def dfs(self, words, cand, res, index, path):\n",
    "        if len(path) == 2:\n",
    "            if self.check_palindromes(words[path[0]] + words[path[1]]) == True:\n",
    "                res.append([path[0], path[1]])\n",
    "            return\n",
    "        for i in range(index, len(cand)):\n",
    "            self.dfs(words, cand[:i] + cand[i+1:], res, 0, path+[cand[i]])\n",
    "        \n",
    "    def check_palindromes(self, word):\n",
    "        if not word:\n",
    "            return False\n",
    "        if word == word[::-1]:\n",
    "            return True\n",
    "        return False\n",
    "        \n",
    "sol = Solution()\n",
    "print(sol.palindromePairs([\"abcd\",\"dcba\",\"lls\",\"s\",\"sssll\"]))\n",
    "print(sol.palindromePairs([\"eajcjieedaeaaehaj\",\"bffhcbdgcadbcdbejbi\",\"jcbebidgbabg\",\"hjeigcji\",\"hheijg\",\"hjgjbhiieeeacgeacfeb\",\"acfijccbabffg\",\"jegg\",\"iaaiieca\",\"icfijhjiciedddhcf\",\"bjgheehgffebc\",\"bfib\",\"c\",\"a\",\"ggcfhheachjgffjihci\",\"hcafajfcejjfgga\",\"jicgbg\",\"ajghhgijjachfeddcjec\",\"dfhcdfhacbehjadibh\",\"fibgjiaaffbgadgdbf\",\"cccdijadjbe\",\"hjbhcgjcjaahcgd\",\"cdaadbeiifdb\",\"aedbjeej\",\"jdhacjabceaa\",\"hgijgfdciddhd\",\"idcjebb\",\"hhbejihde\",\"bbd\",\"ifcghddijdcch\",\"igeafcfbegidgjbh\",\"hfjhejcggd\",\"abbbjafcjbgfjdd\",\"icjgabaajgifd\",\"aghe\",\"hafj\",\"bihf\",\"gfciia\",\"bjdehedagggee\",\"jdjceggegheegdbdcacf\",\"iefifbefcgdhiddaiac\",\"bjdfjh\",\"fegeibbeb\",\"fiefagdgibjba\",\"j\",\"ecdgfbaijaahjjjjcfi\",\"diehadfba\",\"eiebejagiifcadbhjdfa\",\"jhjfe\",\"de\",\"bjgd\",\"afgbfhjceiiicdefig\",\"dhcddefaaecdeiifghbc\",\"abefffdcjghbf\",\"igdcfch\",\"edcifbijeb\",\"aaiciigcbc\",\"dfaehih\",\"abfcagbjifbfdfj\",\"aaffcaahfhfjjiiha\",\"jffcidfgaedfadc\",\"jdfiibjjhfge\",\"gideaicaif\",\"ijhfjecaaagjfcbbdfd\",\"jabeejgbfjjjbg\",\"hebcaaadbd\",\"iadfabgagjbe\",\"ibcggje\",\"hfb\",\"fhhcbjfcjjaagjjhhb\",\"dhjdgc\",\"fecjjhjd\",\"dheddbeiac\",\"chffbhffhajhdebiac\",\"djiifijbici\",\"gjghfehecb\",\"fj\",\"eecbib\",\"cejejiibgfd\",\"behjfa\",\"aghjffbeehddgihefjhc\",\"bjd\",\"ihiigbfaejhj\",\"cfddjghiie\",\"dadiecic\",\"ccefjchiieedfiag\",\"cbcafdcdbijdd\",\"ibafdacbfgci\",\"jgahh\",\"gdg\",\"cfeifjdihijcg\",\"hgbibjhhbfbbebf\",\"dihh\",\"cc\",\"aheadg\",\"hbf\",\"hdegcefgjjfjjdfgbgj\",\"fcddjad\",\"hdh\",\"cafijhfg\",\"bejh\",\"hcedccjb\",\"f\",\"faeaifeebfha\",\"ah\",\"jgbbcjg\",\"fbigehieajbgiagaebi\",\"behejgbffeeegcibefjh\",\"eafigabjcgd\",\"ifcafbhfchii\",\"ecf\",\"fhfah\",\"ddegchabgidcih\",\"dhiafghcbfjfgbfhe\",\"ehegdihfjdhhahbdc\",\"dadbeaeggejd\",\"ecaejggiecbbgdhfafb\",\"jfjajecgfhahddja\",\"cafehgahccd\",\"ijchicbjfdficihi\",\"jccbdid\",\"hfgfehcjbjcbhiagcgbe\",\"bahbfihjgh\",\"bcf\",\"fidhgbgdcdeeebcfbd\",\"jdbfgabecadgf\",\"ejifjciifadi\",\"jchcbjch\",\"adbgbdcj\",\"dg\",\"iccfageiihaegidddhc\",\"gaffdcdiadaibjjdcdh\",\"bigjicbiafajie\",\"fjaidhjjibdbbhaag\",\"ejgcjecebcgdf\",\"fcfhgjgcgdijfjdehcjc\",\"acfiabfgh\",\"ffe\",\"cdfbfdedfb\",\"dcb\",\"hdajechdieaeajd\",\"abgeacaeghdabjb\",\"aaed\",\"ccaeddcgfd\",\"ffagbecgfiddid\",\"ggdgfajbefg\",\"fgjagagedaaacg\",\"ifbciiecidjage\",\"hdbfhdjbcb\",\"jdehbgjgjjge\",\"hcfacidaf\",\"gicch\",\"ajcfhehcfhgfd\",\"fcabddhcifhcaadiddfa\",\"ggjjjbcehbjidgjhc\",\"bagjh\",\"ijbajfed\",\"digfga\",\"ihhcadd\",\"idb\",\"gdgeeha\",\"bcccj\",\"edaebdjjiedfhadedda\",\"ejdhejbgi\",\"hiaeeahhccggddjacdc\",\"bcijjbic\",\"echgeebgheh\",\"bihecegcacd\",\"jbbgh\",\"efbhggigbhbghbcffb\",\"gccbedjfi\",\"ec\",\"ca\",\"jiaddj\",\"ac\",\"hjjhchbb\",\"jfef\",\"aedjideaadfbhfhja\",\"dbhdgj\",\"dbjegaefhedjicfb\",\"ebi\",\"jagiahaa\",\"dbhjjjagffa\",\"gjaihabacicbcf\",\"edebaejigd\",\"jb\",\"bdjgddegfcbggdcibi\",\"cifcifejjjgfcfidcehc\",\"hdcbfbihe\",\"hbbajd\",\"ifbhcfaidbbgjehgc\",\"iaaeebbhgfi\",\"eefgbiifdeaccgfhgef\",\"cbjfa\",\"bibbejhbfdggbbadjfd\",\"ifefcjdfceef\",\"cdgj\",\"acibdggbbifdcdea\",\"dbbafcibhjdffbdf\",\"edajeccf\",\"jchcchhcfjjj\",\"gcbfhcah\",\"ehchjggicdgce\",\"idehajeiibg\",\"fgc\",\"afeahg\",\"dhidijcahijec\",\"hjihfagcdebgbbaf\",\"hahicaiiiehjbdbjeiea\",\"gabiahhaaaaagcggd\",\"aafbghaafjeicjhfhjee\",\"eajfcdcia\",\"hgafjicegeheibe\",\"eccbbaffdcbbadjcff\",\"dbbadcaghff\",\"dhejaejgcjiecehfjcia\",\"jaecfidfhehjhedg\",\"ifchafjegb\",\"igfhgfhaehjegg\",\"ahia\",\"dh\",\"fgaijachhe\",\"jjahfeacbff\",\"bahhcg\",\"cjajjaehjbg\",\"cgbjadgjegic\",\"ejggbbihcjifjcjffgdg\",\"dbciicdadbifhjebi\",\"ahhch\",\"iiiej\",\"hecfjbhgaedfahefahia\",\"jhagiadi\",\"hcfiadejcdjihefhe\",\"fhjefihbbfj\",\"fccigfbhebg\",\"fabed\",\"efijhhjidjhg\",\"aicaag\",\"cefhabb\",\"bfgdhjihcdbbgffggd\",\"caebibfbhaejaac\",\"baebcdaabfjbajgca\",\"ffahfadcciahgbebfgdi\",\"cfgde\",\"dicgfiajbedg\",\"gg\",\"icgcgibgiai\",\"gechajjd\",\"caaidhcijbc\",\"ehdcbcbbjebajif\",\"haf\",\"ggab\",\"fhcea\",\"cidjibfdgibdabga\",\"heehab\",\"aigajejfeieeja\",\"didbhgbh\",\"ji\",\"defhcgdbbddhe\",\"gfcdggdjbdegi\",\"cbjdc\",\"b\",\"chgb\",\"hbfhb\",\"iijjhdjedghijgddaaih\",\"jfjajjebcgchchhba\",\"idcieegajdjbcjbegj\",\"cgggchjcii\",\"iijcbdbicbfjjfbihj\",\"jhe\",\"jhcbgbjiai\",\"chaaciecc\",\"ebdgidjfjhffc\",\"fedcecdjcbbciaf\",\"aegefahcgdha\",\"ccfgbibfhi\",\"dgagaahhihijiaf\",\"ghbcahajdfihbdi\",\"higiccda\",\"bcbajgbfhajaddifad\",\"cfafdgcdgfjahjigg\",\"bhhffdbfgcchbchgdag\",\"gebaihebc\",\"afjb\",\"iiidjg\",\"fjicbhij\",\"ebj\",\"ajfhfhbjhjjbcajcbgb\",\"feicegb\",\"cajjfhhdcffa\",\"af\",\"bjfid\",\"ddbaffib\",\"gaj\",\"igefiibaj\",\"fhiaicgg\",\"dbbhdigeibjdeceadib\",\"ebcgbhhdegchjb\",\"jjabhgdaijajahhg\",\"cibdbedj\",\"hdfih\",\"fie\",\"bjhj\",\"fegjjgjia\",\"bdc\",\"ceggie\",\"fbieai\",\"beajdfgaiag\",\"g\",\"ajebechfcde\"]))\n",
    "\n",
    "print(\"--- %s seconds ---\" % (time.time() - start))"
   ]
  },
  {
   "cell_type": "code",
   "execution_count": null,
   "metadata": {},
   "outputs": [],
   "source": []
  }
 ],
 "metadata": {
  "kernelspec": {
   "display_name": "Python 3",
   "language": "python",
   "name": "python3"
  },
  "language_info": {
   "codemirror_mode": {
    "name": "ipython",
    "version": 3
   },
   "file_extension": ".py",
   "mimetype": "text/x-python",
   "name": "python",
   "nbconvert_exporter": "python",
   "pygments_lexer": "ipython3",
   "version": "3.6.8"
  }
 },
 "nbformat": 4,
 "nbformat_minor": 2
}
