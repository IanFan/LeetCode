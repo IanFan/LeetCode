{
 "cells": [
  {
   "cell_type": "markdown",
   "metadata": {},
   "source": [
    "## 1184. Distance Between Bus Stops"
   ]
  },
  {
   "cell_type": "code",
   "execution_count": 3,
   "metadata": {},
   "outputs": [
    {
     "name": "stdout",
     "output_type": "stream",
     "text": [
      "1\n",
      "3\n",
      "4\n"
     ]
    }
   ],
   "source": [
    "\"\"\"\n",
    "Input: distance = [1,2,3,4], start = 0, destination = 1\n",
    "Output: 1\n",
    "Explanation: Distance between 0 and 1 is 1 or 9, minimum is 1.\n",
    "\n",
    "Input: distance = [1,2,3,4], start = 0, destination = 2\n",
    "Output: 3\n",
    "Explanation: Distance between 0 and 2 is 3 or 7, minimum is 3.\n",
    "\n",
    "Input: distance = [1,2,3,4], start = 0, destination = 3\n",
    "Output: 4\n",
    "Explanation: Distance between 0 and 3 is 6 or 4, minimum is 4.\n",
    "\"\"\"\n",
    "\n",
    "class Solution:\n",
    "    def distanceBetweenBusStops(self, distance, start: int, destination: int) -> int:\n",
    "        dis1 = sum(distance[min(start, destination): max(start, destination)])\n",
    "        dis2 = sum(distance) - dis1\n",
    "        return min(dis1, dis2)\n",
    "    \n",
    "sol = Solution()\n",
    "print(sol.distanceBetweenBusStops([1,2,3,4], 0 , 1)) # 1\n",
    "print(sol.distanceBetweenBusStops([1,2,3,4], 0 , 2)) # 3\n",
    "print(sol.distanceBetweenBusStops([1,2,3,4], 0 , 3)) # 4"
   ]
  },
  {
   "cell_type": "code",
   "execution_count": null,
   "metadata": {},
   "outputs": [],
   "source": []
  }
 ],
 "metadata": {
  "kernelspec": {
   "display_name": "Python 3",
   "language": "python",
   "name": "python3"
  },
  "language_info": {
   "codemirror_mode": {
    "name": "ipython",
    "version": 3
   },
   "file_extension": ".py",
   "mimetype": "text/x-python",
   "name": "python",
   "nbconvert_exporter": "python",
   "pygments_lexer": "ipython3",
   "version": "3.6.8"
  }
 },
 "nbformat": 4,
 "nbformat_minor": 2
}
