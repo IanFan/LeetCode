{
 "cells": [
  {
   "cell_type": "markdown",
   "metadata": {},
   "source": [
    "## 1186. Maximum Subarray Sum with One Deletion"
   ]
  },
  {
   "cell_type": "code",
   "execution_count": 2,
   "metadata": {},
   "outputs": [
    {
     "name": "stdout",
     "output_type": "stream",
     "text": [
      "4\n",
      "3\n",
      "-1\n"
     ]
    }
   ],
   "source": [
    "\"\"\"\n",
    "User Accepted: 1108\n",
    "User Tried: 2310\n",
    "Total Accepted: 1189\n",
    "Total Submissions: 5748\n",
    "Difficulty: Medium\n",
    "Given an array of integers, return the maximum sum for a non-empty subarray (contiguous elements) with at most one element deletion. In other words, you want to choose a subarray and optionally delete one element from it so that there is still at least one element left and the sum of the remaining elements is maximum possible.\n",
    "\n",
    "Note that the subarray needs to be non-empty after deleting one element.\n",
    "\n",
    " \n",
    "\n",
    "Example 1:\n",
    "\n",
    "Input: arr = [1,-2,0,3]\n",
    "Output: 4\n",
    "Explanation: Because we can choose [1, -2, 0, 3] and drop -2, thus the subarray [1, 0, 3] becomes the maximum value.\n",
    "Example 2:\n",
    "\n",
    "Input: arr = [1,-2,-2,3]\n",
    "Output: 3\n",
    "Explanation: We just choose [3] and it's the maximum sum.\n",
    "Example 3:\n",
    "\n",
    "Input: arr = [-1,-1,-1,-1]\n",
    "Output: -1\n",
    "Explanation: The final subarray needs to be non-empty. You can't choose [-1] and delete -1 from it, then get an empty subarray to make the sum equals to 0.\n",
    " \n",
    "\n",
    "Constraints:\n",
    "\n",
    "1 <= arr.length <= 10^5\n",
    "-10^4 <= arr[i] <= 10^4\n",
    "\"\"\"\n",
    "\n",
    "class Solution:\n",
    "    def maximumSum(self, arr) -> int:\n",
    "        s0 = 0\n",
    "        s1 = 0\n",
    "        ans = 0\n",
    "        \n",
    "        max_a = max(arr)\n",
    "        if max_a <= 0:\n",
    "            return max_a\n",
    "        \n",
    "        for i in range(len(arr)):\n",
    "            a = arr[i]\n",
    "            s1 = max(s0, s1+a)\n",
    "            s0 += a\n",
    "            ans = max(ans, max(s0, s1))\n",
    "            if s0 < 0:\n",
    "                s0 = 0\n",
    "            if s1 < 0:\n",
    "                s1 = 0\n",
    "        return ans\n",
    "\n",
    "sol = Solution()\n",
    "print(sol.maximumSum([1,-2,0,3])) # 4\n",
    "print(sol.maximumSum([1,-2,-2,3])) # 3\n",
    "print(sol.maximumSum([-1,-1,-1,-1])) # -1\n",
    "      "
   ]
  },
  {
   "cell_type": "code",
   "execution_count": null,
   "metadata": {},
   "outputs": [],
   "source": []
  }
 ],
 "metadata": {
  "kernelspec": {
   "display_name": "Python 3",
   "language": "python",
   "name": "python3"
  },
  "language_info": {
   "codemirror_mode": {
    "name": "ipython",
    "version": 3
   },
   "file_extension": ".py",
   "mimetype": "text/x-python",
   "name": "python",
   "nbconvert_exporter": "python",
   "pygments_lexer": "ipython3",
   "version": "3.6.8"
  }
 },
 "nbformat": 4,
 "nbformat_minor": 2
}
