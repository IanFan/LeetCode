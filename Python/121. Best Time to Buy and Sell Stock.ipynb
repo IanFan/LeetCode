{
 "cells": [
  {
   "cell_type": "code",
   "execution_count": 2,
   "metadata": {},
   "outputs": [],
   "source": [
    "import time"
   ]
  },
  {
   "cell_type": "code",
   "execution_count": 3,
   "metadata": {},
   "outputs": [
    {
     "name": "stdout",
     "output_type": "stream",
     "text": [
      "True\n",
      "--- 0.0003180503845214844 seconds ---\n"
     ]
    }
   ],
   "source": [
    "start_time = time.time()\n",
    "\n",
    "class Solution(object):\n",
    "    def maxProfit(self, prices):\n",
    "        \"\"\"\n",
    "        :type prices: List[int]\n",
    "        :rtype: int\n",
    "        \"\"\"\n",
    "        if len(prices) <= 1:\n",
    "            return 0\n",
    "        low = prices[0]\n",
    "        high = None\n",
    "        sell = 0\n",
    "        for p in prices:\n",
    "            if p<low:\n",
    "                if high != None:\n",
    "                    if high-low > sell:\n",
    "                        sell = high-low\n",
    "                low = p\n",
    "                high = None\n",
    "            elif p>low and (high == None or p>high):\n",
    "                high = p\n",
    "                if high-low > sell:\n",
    "                    sell = high-low\n",
    "        return sell\n",
    "                \n",
    "sol = Solution()\n",
    "print(sol.maxProfit([7,1,5,3,6,4]) == 5)\n",
    "\n",
    "print(\"--- %s seconds ---\" % (time.time() - start_time))        "
   ]
  },
  {
   "cell_type": "code",
   "execution_count": 5,
   "metadata": {},
   "outputs": [
    {
     "name": "stdout",
     "output_type": "stream",
     "text": [
      "True\n",
      "--- 0.0002541542053222656 seconds ---\n"
     ]
    }
   ],
   "source": [
    "start_time = time.time()\n",
    "\n",
    "class Solution(object):\n",
    "    def maxProfit(self, prices):\n",
    "        \"\"\"\n",
    "        :type prices: List[int]\n",
    "        :rtype: int\n",
    "        \"\"\"\n",
    "        if len(prices) <= 1:\n",
    "            return 0\n",
    "        max_profit, min_price = 0, float('inf')\n",
    "        for price in prices:\n",
    "            min_price = min(min_price, price)\n",
    "            profit = price - min_price\n",
    "            max_profit = max(max_profit, profit)\n",
    "        return max_profit\n",
    "                \n",
    "sol = Solution()\n",
    "print(sol.maxProfit([7,1,5,3,6,4]) == 5)\n",
    "\n",
    "print(\"--- %s seconds ---\" % (time.time() - start_time))        "
   ]
  },
  {
   "cell_type": "code",
   "execution_count": null,
   "metadata": {},
   "outputs": [],
   "source": []
  }
 ],
 "metadata": {
  "kernelspec": {
   "display_name": "Python 3",
   "language": "python",
   "name": "python3"
  },
  "language_info": {
   "codemirror_mode": {
    "name": "ipython",
    "version": 3
   },
   "file_extension": ".py",
   "mimetype": "text/x-python",
   "name": "python",
   "nbconvert_exporter": "python",
   "pygments_lexer": "ipython3",
   "version": "3.6.8"
  }
 },
 "nbformat": 4,
 "nbformat_minor": 2
}
