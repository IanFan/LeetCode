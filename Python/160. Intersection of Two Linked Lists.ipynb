{
 "cells": [
  {
   "cell_type": "code",
   "execution_count": 1,
   "metadata": {},
   "outputs": [],
   "source": [
    "import time"
   ]
  },
  {
   "cell_type": "code",
   "execution_count": 9,
   "metadata": {},
   "outputs": [
    {
     "name": "stdout",
     "output_type": "stream",
     "text": [
      "8\n",
      "--- 0.00045609474182128906 seconds ---\n"
     ]
    }
   ],
   "source": [
    "start_time = time.time()\n",
    "\n",
    "# Definition for singly-linked list.\n",
    "class ListNode(object):\n",
    "    def __init__(self, x):\n",
    "        self.val = x\n",
    "        self.next = None\n",
    "\n",
    "class Solution(object):\n",
    "    def getIntersectionNode(self, headA, headB):\n",
    "        \"\"\"\n",
    "        :type head1, head1: ListNode\n",
    "        :rtype: ListNode\n",
    "        \"\"\"\n",
    "        if not headA or not headB:\n",
    "            return None\n",
    "        p = headA\n",
    "        while p.next:\n",
    "            p = p.next\n",
    "        mark = p\n",
    "        mark.next = headA\n",
    "        \n",
    "        slow = fast = headB\n",
    "        while True:\n",
    "            if not fast or not fast.next:\n",
    "                mark.next = None\n",
    "                return None\n",
    "            fast = fast.next.next\n",
    "            slow = slow.next\n",
    "            if fast == slow:\n",
    "                break\n",
    "        fast = headB\n",
    "        while fast != slow:\n",
    "            fast = fast.next\n",
    "            slow = slow.next\n",
    "        mark.next = None\n",
    "        return fast\n",
    "\n",
    "A = ListNode(4)\n",
    "A.next = ListNode(1)\n",
    "A.next.next = ListNode(8)\n",
    "A.next.next.next = ListNode(4)\n",
    "A.next.next.next.next = ListNode(5)\n",
    "\n",
    "B = ListNode(5)\n",
    "B.next = ListNode(0)\n",
    "B.next.next = ListNode(1)\n",
    "B.next.next.next = A.next.next\n",
    "\n",
    "# [4,1,8,4,5]\n",
    "# [5,0,1,8,4,5]\n",
    "\n",
    "sol = Solution()\n",
    "print(sol.getIntersectionNode(A, B).val)\n",
    "\n",
    "print(\"--- %s seconds ---\" % (time.time() - start_time))        "
   ]
  },
  {
   "cell_type": "code",
   "execution_count": null,
   "metadata": {},
   "outputs": [],
   "source": []
  }
 ],
 "metadata": {
  "kernelspec": {
   "display_name": "Python 3",
   "language": "python",
   "name": "python3"
  },
  "language_info": {
   "codemirror_mode": {
    "name": "ipython",
    "version": 3
   },
   "file_extension": ".py",
   "mimetype": "text/x-python",
   "name": "python",
   "nbconvert_exporter": "python",
   "pygments_lexer": "ipython3",
   "version": "3.6.8"
  }
 },
 "nbformat": 4,
 "nbformat_minor": 2
}
