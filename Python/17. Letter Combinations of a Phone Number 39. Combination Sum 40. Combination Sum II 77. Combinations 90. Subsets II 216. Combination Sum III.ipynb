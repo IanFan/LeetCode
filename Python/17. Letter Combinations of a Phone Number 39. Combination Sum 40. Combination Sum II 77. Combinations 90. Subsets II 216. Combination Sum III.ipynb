{
 "cells": [
  {
   "cell_type": "markdown",
   "metadata": {},
   "source": [
    "## 17. Letter Combinations of a Phone Number"
   ]
  },
  {
   "cell_type": "code",
   "execution_count": 4,
   "metadata": {},
   "outputs": [
    {
     "name": "stdout",
     "output_type": "stream",
     "text": [
      "['ad', 'ae', 'af', 'bd', 'be', 'bf', 'cd', 'ce', 'cf']\n"
     ]
    }
   ],
   "source": [
    "class Solution(object):\n",
    "    def letterCombinations(self, digits):\n",
    "        \"\"\"\n",
    "        :type digits: str\n",
    "        :rtype: List[str]\n",
    "        \"\"\"\n",
    "        dic = {\"2\":\"abc\",\"3\":\"def\",\"4\":\"ghi\",\"5\":\"jkl\",\"6\":\"mno\",\"7\":\"pqrs\",\"8\":\"tuv\",\"9\":\"wxyz\"}\n",
    "        \n",
    "        if len(digits) == 0:\n",
    "            return []\n",
    "        if len(digits) == 1:\n",
    "            return list(d2l[digits[0]])\n",
    "        res = []\n",
    "        self.dfs(digits, dic, 0, \"\", res)\n",
    "        return res\n",
    "    \n",
    "    def dfs(self, digits, dic, index, path, res):\n",
    "        if len(path) == len(digits):\n",
    "            res.append(path)\n",
    "            return\n",
    "    \n",
    "        for i in dic[digits[index]]:\n",
    "            self.dfs(digits, dic, index+1, path+i, res)\n",
    "        \n",
    "sol = Solution()\n",
    "print(sol.letterCombinations(\"23\"))"
   ]
  },
  {
   "cell_type": "markdown",
   "metadata": {},
   "source": [
    "## 39. Combination Sum"
   ]
  },
  {
   "cell_type": "code",
   "execution_count": 23,
   "metadata": {},
   "outputs": [
    {
     "name": "stdout",
     "output_type": "stream",
     "text": [
      "[[2, 2, 3], [7]]\n"
     ]
    }
   ],
   "source": [
    "class Solution(object):\n",
    "    def combinationSum(self, candidates, target):\n",
    "        \"\"\"\n",
    "        :type candidates: List[int]\n",
    "        :type target: int\n",
    "        :rtype: List[List[int]]\n",
    "        \"\"\"\n",
    "        if not candidates:\n",
    "            return []\n",
    "        if target == 0:\n",
    "            return []\n",
    "        candidates.sort()\n",
    "        res = []\n",
    "        self.dfs(candidates, target, 0, [], res)\n",
    "        return res\n",
    "    \n",
    "    def dfs(self, nums, target, index, path, res):\n",
    "        if target < 0:\n",
    "            return\n",
    "        if target == 0:\n",
    "            res.append(path)\n",
    "            return\n",
    "        for i in range(index, len(nums)):\n",
    "            self.dfs(nums, target-nums[i], i, path+[nums[i]], res)\n",
    "        \n",
    "sol = Solution()\n",
    "print(sol.combinationSum([2,3,6,7], 7))      "
   ]
  },
  {
   "cell_type": "markdown",
   "metadata": {},
   "source": [
    "## 40. Combination Sum II"
   ]
  },
  {
   "cell_type": "code",
   "execution_count": 78,
   "metadata": {},
   "outputs": [
    {
     "name": "stdout",
     "output_type": "stream",
     "text": [
      "[[1, 1, 6], [1, 2, 5], [1, 7], [2, 6]]\n"
     ]
    }
   ],
   "source": [
    "class Solution(object):\n",
    "    def combinationSum2(self, candidates, target):\n",
    "        \"\"\"\n",
    "        :type candidates: List[int]\n",
    "        :type target: int\n",
    "        :rtype: List[List[int]]\n",
    "        \"\"\"\n",
    "        if not candidates:\n",
    "            return []\n",
    "        candidates.sort()\n",
    "        res = []\n",
    "        self.dfs(candidates, target, 0, [], res)\n",
    "        return res\n",
    "    \n",
    "    def dfs(self, nums, target, index, path, res):\n",
    "        if target < 0:\n",
    "            return\n",
    "        if target == 0:\n",
    "            res.append(path)\n",
    "            return\n",
    "        if not nums:\n",
    "            return\n",
    "        for i in range(index, len(nums)):\n",
    "            if i!=index and nums[i]==nums[i-1]:\n",
    "                continue\n",
    "            self.dfs(nums, target-nums[i], i+1, path+[nums[i]], res)\n",
    "        \n",
    "sol = Solution()\n",
    "print(sol.combinationSum2([10,1,2,7,6,1,5], 8))              "
   ]
  },
  {
   "cell_type": "markdown",
   "metadata": {},
   "source": [
    "## 77. Combinations"
   ]
  },
  {
   "cell_type": "code",
   "execution_count": 60,
   "metadata": {},
   "outputs": [
    {
     "name": "stdout",
     "output_type": "stream",
     "text": [
      "[[1, 2], [1, 3], [1, 4], [2, 3], [2, 4], [3, 4]]\n"
     ]
    }
   ],
   "source": [
    "class Solution(object):\n",
    "    def combine(self, n, k):\n",
    "        \"\"\"\n",
    "        :type n: int\n",
    "        :type k: int\n",
    "        :rtype: List[List[int]]\n",
    "        \"\"\"\n",
    "        if n <= 0:\n",
    "            return []\n",
    "        candidates = []\n",
    "        for i in range(1, n+1):\n",
    "            candidates.append(i)\n",
    "        res = []\n",
    "        self.dfs(candidates, k, 0, [], res)\n",
    "        return res\n",
    "    \n",
    "    def dfs(self, nums, target, index, path, res):\n",
    "        if len(path) == target:\n",
    "            res.append(path)\n",
    "            return\n",
    "        for i in range(index, len(nums)):\n",
    "            self.dfs(nums, target, i+1, path+[nums[i]], res)\n",
    "        \n",
    "        \n",
    "sol = Solution()\n",
    "print(sol.combine(4, 2))        "
   ]
  },
  {
   "cell_type": "markdown",
   "metadata": {},
   "source": [
    "## 78. Subsets"
   ]
  },
  {
   "cell_type": "code",
   "execution_count": 69,
   "metadata": {},
   "outputs": [
    {
     "name": "stdout",
     "output_type": "stream",
     "text": [
      "[[], [1], [1, 2], [1, 2, 3], [1, 3], [2], [2, 3], [3]]\n"
     ]
    }
   ],
   "source": [
    "class Solution(object):\n",
    "    def subsets(self, nums):\n",
    "        \"\"\"\n",
    "        :type nums: List[int]\n",
    "        :rtype: List[List[int]]\n",
    "        \"\"\"\n",
    "        if not nums:\n",
    "            return []\n",
    "        res = []\n",
    "        self.dfs(nums, 0, [], res)\n",
    "        return res\n",
    "\n",
    "    def dfs(self, nums, index, path, res):\n",
    "        res.append(path)\n",
    "        for i in range(index, len(nums)):\n",
    "            self.dfs(nums, i+1, path+[nums[i]], res)\n",
    "            \n",
    "sol = Solution()\n",
    "print(sol.subsets([1,2,3]))  "
   ]
  },
  {
   "cell_type": "markdown",
   "metadata": {},
   "source": [
    "## 90. Subsets II"
   ]
  },
  {
   "cell_type": "code",
   "execution_count": 79,
   "metadata": {},
   "outputs": [
    {
     "name": "stdout",
     "output_type": "stream",
     "text": [
      "[[], [1], [1, 2], [1, 2, 2], [2], [2, 2]]\n"
     ]
    }
   ],
   "source": [
    "class Solution(object):\n",
    "    def subsetsWithDup(self, nums):\n",
    "        \"\"\"\n",
    "        :type nums: List[int]\n",
    "        :rtype: List[List[int]]\n",
    "        \"\"\"\n",
    "        if not nums:\n",
    "            return []\n",
    "        nums.sort()\n",
    "        res = []\n",
    "        self.dfs(nums, 0, [], res)\n",
    "        return res\n",
    "    \n",
    "    def dfs(self, nums, index, path, res):\n",
    "        res.append(path)\n",
    "        for i in range(index, len(nums)):\n",
    "            if i > index and nums[i] == nums[i-1]:\n",
    "                continue\n",
    "            self.dfs(nums, i+1, path+[nums[i]], res)\n",
    "        \n",
    "sol = Solution()\n",
    "print(sol.subsetsWithDup([1,2,2]))        "
   ]
  },
  {
   "cell_type": "markdown",
   "metadata": {},
   "source": [
    "## 216. Combination Sum III"
   ]
  },
  {
   "cell_type": "code",
   "execution_count": 83,
   "metadata": {},
   "outputs": [
    {
     "name": "stdout",
     "output_type": "stream",
     "text": [
      "[[1, 2, 4]]\n",
      "[[1, 2, 6], [1, 3, 5], [2, 3, 4]]\n"
     ]
    }
   ],
   "source": [
    "class Solution(object):\n",
    "    def combinationSum3(self, k, n):\n",
    "        \"\"\"\n",
    "        :type k: int\n",
    "        :type n: int\n",
    "        :rtype: List[List[int]]\n",
    "        \"\"\"\n",
    "        candidates = [1,2,3,4,5,6,7,8,9]\n",
    "        res = []\n",
    "        self.dfs(candidates, k, n, 0, [], res)\n",
    "        return res\n",
    "    \n",
    "    def dfs(self, nums, k, n, index, path, res):\n",
    "        if n < 0:\n",
    "            return\n",
    "        if len(path) > k:\n",
    "            return\n",
    "        if n == 0:\n",
    "            if len(path) == k:\n",
    "                res.append(path)\n",
    "            return\n",
    "        for i in range(index, len(nums)):\n",
    "            self.dfs(nums, k, n-nums[i], i+1, path+[nums[i]], res)\n",
    "\n",
    "sol = Solution()\n",
    "print(sol.combinationSum3(3, 7))\n",
    "print(sol.combinationSum3(3, 9))"
   ]
  },
  {
   "cell_type": "code",
   "execution_count": null,
   "metadata": {},
   "outputs": [],
   "source": []
  }
 ],
 "metadata": {
  "kernelspec": {
   "display_name": "Python 3",
   "language": "python",
   "name": "python3"
  },
  "language_info": {
   "codemirror_mode": {
    "name": "ipython",
    "version": 3
   },
   "file_extension": ".py",
   "mimetype": "text/x-python",
   "name": "python",
   "nbconvert_exporter": "python",
   "pygments_lexer": "ipython3",
   "version": "3.6.8"
  }
 },
 "nbformat": 4,
 "nbformat_minor": 2
}
