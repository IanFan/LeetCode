{
 "cells": [
  {
   "cell_type": "code",
   "execution_count": 16,
   "metadata": {},
   "outputs": [
    {
     "name": "stdout",
     "output_type": "stream",
     "text": [
      "['(', ')']\n",
      "True\n",
      "['(', '[', ')', ']']\n",
      "False\n"
     ]
    }
   ],
   "source": [
    "class Solution(object):\n",
    "    def isValid(self, s):\n",
    "        \"\"\"\n",
    "        :type s: str\n",
    "        :rtype: bool\n",
    "        \"\"\"\n",
    "        a = list(s)\n",
    "        dict = {}\n",
    "        print(a)\n",
    "        for c in s:\n",
    "            if c in dict.keys():\n",
    "                dict[c] += 1\n",
    "            else:\n",
    "                dict[c] = 0\n",
    "        if \"{\" in dict.keys():\n",
    "            if \"}\" in dict.keys():\n",
    "                if dict[\"{\"] == dict[\"}\"]:\n",
    "                    return True\n",
    "            return False\n",
    "        if \"(\" in dict.keys():\n",
    "            if \")\" in dict.keys():\n",
    "                if dict[\"(\"] == dict[\")\"]:\n",
    "                    return True\n",
    "            return False\n",
    "        if \"[\" in dict.keys():\n",
    "            if \"]\" in dict.keys():\n",
    "                if dict[\"[\"] == dict[\"]\"]:\n",
    "                    return True\n",
    "            return False\n",
    "\n",
    "print(Solution().isValid(\"()\") == True)\n",
    "print(Solution().isValid(\"([)]\") == False)"
   ]
  },
  {
   "cell_type": "code",
   "execution_count": 4,
   "metadata": {},
   "outputs": [
    {
     "name": "stdout",
     "output_type": "stream",
     "text": [
      "True\n",
      "True\n"
     ]
    }
   ],
   "source": [
    "from collections import deque\n",
    "\n",
    "class Solution(object):\n",
    "    def isValid(self, s):\n",
    "        \"\"\"\n",
    "        :type s: str\n",
    "        :rtype: bool\n",
    "        \"\"\"\n",
    "        stack = deque()\n",
    "        open_brackets = {\"{\", \"(\", \"[\"}\n",
    "        close_brackets = {\"}\", \")\", \"]\"}\n",
    "        for c in s:\n",
    "            if c in open_brackets:\n",
    "                stack.append(c)\n",
    "            if c in close_brackets:\n",
    "                tmp = \"\"\n",
    "                if len(stack) > 0:\n",
    "                    tmp = stack.pop()\n",
    "                if (c == \"}\" and \"{\" == tmp) or (c == \"]\" and \"[\" == tmp) or (c == \")\" and \"(\" == tmp):\n",
    "                    continue\n",
    "                else:\n",
    "                    return False\n",
    "        if len(stack) > 0:\n",
    "            return False\n",
    "        return True\n",
    "\n",
    "print(Solution().isValid(\"()\") == True)\n",
    "print(Solution().isValid(\"([)]\") == False)"
   ]
  },
  {
   "cell_type": "code",
   "execution_count": 6,
   "metadata": {},
   "outputs": [
    {
     "name": "stdout",
     "output_type": "stream",
     "text": [
      "True\n",
      "True\n"
     ]
    }
   ],
   "source": [
    "class Solution(object):\n",
    "    def isValid(self, s):\n",
    "        \"\"\"\n",
    "        :type s: str\n",
    "        :rtype: bool\n",
    "        \"\"\"\n",
    "        if len(s) == 0:\n",
    "            return True\n",
    "        if len(s) == 1:\n",
    "            return False\n",
    "        \n",
    "        stack = []\n",
    "        open_brackets = [\"{\", \"(\", \"[\"]\n",
    "        for c in s:\n",
    "            if c in open_brackets:\n",
    "                stack.append(c)\n",
    "            elif len(stack) == 0:\n",
    "                return False\n",
    "            else:\n",
    "                tmp = stack.pop()\n",
    "                if (c == \"}\" and \"{\" == tmp) or (c == \"]\" and \"[\" == tmp) or (c == \")\" and \"(\" == tmp):\n",
    "                    continue\n",
    "                else:\n",
    "                    return False\n",
    "        return True if len(stack) == 0 else False\n",
    "\n",
    "print(Solution().isValid(\"()\") == True)\n",
    "print(Solution().isValid(\"([)]\") == False)"
   ]
  },
  {
   "cell_type": "code",
   "execution_count": null,
   "metadata": {},
   "outputs": [],
   "source": []
  }
 ],
 "metadata": {
  "kernelspec": {
   "display_name": "Python 3",
   "language": "python",
   "name": "python3"
  },
  "language_info": {
   "codemirror_mode": {
    "name": "ipython",
    "version": 3
   },
   "file_extension": ".py",
   "mimetype": "text/x-python",
   "name": "python",
   "nbconvert_exporter": "python",
   "pygments_lexer": "ipython3",
   "version": "3.6.8"
  }
 },
 "nbformat": 4,
 "nbformat_minor": 2
}
