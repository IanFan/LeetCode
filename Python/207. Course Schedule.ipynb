{
 "cells": [
  {
   "cell_type": "code",
   "execution_count": 2,
   "metadata": {},
   "outputs": [],
   "source": [
    "import time"
   ]
  },
  {
   "cell_type": "code",
   "execution_count": 14,
   "metadata": {},
   "outputs": [
    {
     "name": "stdout",
     "output_type": "stream",
     "text": [
      "True\n",
      "--- 0.00035572052001953125 seconds ---\n"
     ]
    }
   ],
   "source": [
    "start_time = time.time()\n",
    "\n",
    "class Solution(object):\n",
    "    def canFinish(self, numCourses, prerequisites):\n",
    "        \"\"\"\n",
    "        :type numCourses: int\n",
    "        :type prerequisites: List[List[int]]\n",
    "        :rtype: bool\n",
    "        \"\"\"\n",
    "        graph = [[] for _ in range(numCourses)]\n",
    "        visited = [0 for _ in range(numCourses)]\n",
    "        # create graph\n",
    "        for pair in prerequisites:\n",
    "            x, y = pair\n",
    "            graph[x].append(y)\n",
    "        # visit each node\n",
    "        for i in range(numCourses):\n",
    "            if not self.dfs(graph, visited, i):\n",
    "                return False\n",
    "        return True\n",
    "    \n",
    "    def dfs(self, graph, visited, i):\n",
    "        # if ith node is marked as being visited, then a cycle is found\n",
    "        if visited[i] == -1:\n",
    "            return False\n",
    "        # if it is done visited, then do not visit again\n",
    "        if visited[i] == 1:\n",
    "            return True\n",
    "        # mark as being visited\n",
    "        visited[i] = -1\n",
    "        # visit all the neighbours\n",
    "        for j in graph[i]:\n",
    "            if not self.dfs(graph, visited, j):\n",
    "                return False\n",
    "        # after visit all the neighbours, mark it as done visited\n",
    "        visited[i] = 1\n",
    "        return True\n",
    "\n",
    "sol = Solution()\n",
    "print(sol.canFinish(2, [[1,0]]) == True)\n",
    "print(\"--- %s seconds ---\" % (time.time() - start_time))"
   ]
  },
  {
   "cell_type": "code",
   "execution_count": 10,
   "metadata": {},
   "outputs": [
    {
     "name": "stdout",
     "output_type": "stream",
     "text": [
      "[[], []]\n",
      "[0, 0]\n",
      "True\n",
      "--- 0.00045013427734375 seconds ---\n"
     ]
    }
   ],
   "source": [
    "start_time = time.time()\n",
    "\n",
    "class Solution(object):\n",
    "    def canFinish(self, numCourses, prerequisites):\n",
    "        \"\"\"\n",
    "        :type numCourses: int\n",
    "        :type prerequisites: List[List[int]]\n",
    "        :rtype: bool\n",
    "        \"\"\"\n",
    "        from collections import deque\n",
    "        n = numCourses\n",
    "        pres = prerequisites\n",
    "        ind = [[] for _ in range(n)]  # indegree: [[], [], ...]\n",
    "        oud = [0] * n  # outdegree: [0, 0, ...]\n",
    "        for p in pres:\n",
    "            oud[p[0]] += 1\n",
    "            ind[p[1]].append(p[0])\n",
    "        dq = deque()\n",
    "        for i in range(n):\n",
    "            if oud[i] == 0:\n",
    "                dq.append(i)\n",
    "        k = 0\n",
    "        while dq:\n",
    "            x = dq.popleft()\n",
    "            k += 1\n",
    "            for i in ind[x]:\n",
    "                oud[i] -= 1\n",
    "                if oud[i] == 0:\n",
    "                    dq.append(i)\n",
    "        return k == n\n",
    "\n",
    "sol = Solution()\n",
    "print(sol.canFinish(2, [[1,0]]) == True)\n",
    "print(\"--- %s seconds ---\" % (time.time() - start_time))"
   ]
  },
  {
   "cell_type": "code",
   "execution_count": null,
   "metadata": {},
   "outputs": [],
   "source": []
  }
 ],
 "metadata": {
  "kernelspec": {
   "display_name": "Python 3",
   "language": "python",
   "name": "python3"
  },
  "language_info": {
   "codemirror_mode": {
    "name": "ipython",
    "version": 3
   },
   "file_extension": ".py",
   "mimetype": "text/x-python",
   "name": "python",
   "nbconvert_exporter": "python",
   "pygments_lexer": "ipython3",
   "version": "3.6.8"
  }
 },
 "nbformat": 4,
 "nbformat_minor": 2
}
