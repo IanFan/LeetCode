{
 "cells": [
  {
   "cell_type": "markdown",
   "metadata": {},
   "source": [
    "## 344. Reverse String"
   ]
  },
  {
   "cell_type": "code",
   "execution_count": 1,
   "metadata": {},
   "outputs": [
    {
     "name": "stdout",
     "output_type": "stream",
     "text": [
      "['o', 'l', 'l', 'e', 'h']\n"
     ]
    }
   ],
   "source": [
    "class Solution(object):\n",
    "    def reverseString(self, s):\n",
    "        \"\"\"\n",
    "        :type s: List[str]\n",
    "        :rtype: None Do not return anything, modify s in-place instead.\n",
    "        \"\"\"\n",
    "        i, j = 0, len(s)-1\n",
    "        while i < j:\n",
    "            s[i], s[j] = s[j], s[i]\n",
    "            i += 1\n",
    "            j -= 1\n",
    "        return s\n",
    "\n",
    "sol = Solution()\n",
    "print(sol.reverseString([\"h\",\"e\",\"l\",\"l\",\"o\"])) # [\"o\",\"l\",\"l\",\"e\",\"h\"]"
   ]
  },
  {
   "cell_type": "code",
   "execution_count": 9,
   "metadata": {},
   "outputs": [
    {
     "name": "stdout",
     "output_type": "stream",
     "text": [
      "['o', 'l', 'l', 'e', 'h']\n"
     ]
    }
   ],
   "source": [
    "class Solution(object):\n",
    "    def reverseString(self, s):\n",
    "        \"\"\"\n",
    "        :type s: List[str]\n",
    "        :rtype: None Do not return anything, modify s in-place instead.\n",
    "        \"\"\"\n",
    "        return list(reversed(s))\n",
    "\n",
    "sol = Solution()\n",
    "print(sol.reverseString([\"h\",\"e\",\"l\",\"l\",\"o\"])) # [\"o\",\"l\",\"l\",\"e\",\"h\"]"
   ]
  },
  {
   "cell_type": "markdown",
   "metadata": {},
   "source": [
    "## 541. Reverse String II"
   ]
  },
  {
   "cell_type": "code",
   "execution_count": 7,
   "metadata": {},
   "outputs": [
    {
     "name": "stdout",
     "output_type": "stream",
     "text": [
      "bacdfeg\n"
     ]
    }
   ],
   "source": [
    "class Solution(object):\n",
    "    def reverseStr(self, s, k):\n",
    "        \"\"\"\n",
    "        :type s: str\n",
    "        :type k: int\n",
    "        :rtype: str\n",
    "        \"\"\"\n",
    "        left = 0\n",
    "        right = min(k-1, len(s)-1)\n",
    "        ans = list(s)\n",
    "        \n",
    "        while left <= len(ans)-1:\n",
    "            ans[left:right+1] = self.reverseString(ans[left:right+1])\n",
    "            left = left + 2*k\n",
    "            right = min(left + k-1, len(s)-1)\n",
    "        return \"\".join(ans)\n",
    "        \n",
    "    def reverseString(self, s):\n",
    "        i, j = 0, len(s)-1\n",
    "        while i < j:\n",
    "            s[i], s[j] = s[j], s[i]\n",
    "            i += 1\n",
    "            j -= 1\n",
    "        return s\n",
    "\n",
    "s = Solution()\n",
    "print(s.reverseStr(\"abcdefg\", 2))"
   ]
  },
  {
   "cell_type": "code",
   "execution_count": 11,
   "metadata": {},
   "outputs": [
    {
     "name": "stdout",
     "output_type": "stream",
     "text": [
      "['b', 'a', 'c', 'd', 'f', 'e', 'g']\n"
     ]
    }
   ],
   "source": [
    "class Solution(object):\n",
    "    def reverseStr(self, s, k):\n",
    "        \"\"\"\n",
    "        :type s: str\n",
    "        :type k: int\n",
    "        :rtype: str\n",
    "        \"\"\"\n",
    "        s = list(s) \n",
    "        for i in range(0, len(s), 2*k):\n",
    "            s[i:i+k] = list(reversed(s[i:i+k]))\n",
    "        return s\n",
    "\n",
    "s = Solution()\n",
    "print(s.reverseStr(\"abcdefg\", 2))"
   ]
  },
  {
   "cell_type": "markdown",
   "metadata": {},
   "source": [
    "## 345. Reverse Vowels of a String"
   ]
  },
  {
   "cell_type": "code",
   "execution_count": 12,
   "metadata": {},
   "outputs": [
    {
     "name": "stdout",
     "output_type": "stream",
     "text": [
      "holle\n"
     ]
    }
   ],
   "source": [
    "class Solution(object):\n",
    "    def reverseVowels(self, s):\n",
    "        \"\"\"\n",
    "        :type s: str\n",
    "        :rtype: str\n",
    "        \"\"\"\n",
    "        s = list(s)\n",
    "        vowels = \"aeiouAEIOU\"\n",
    "        i, j = 0, len(s)-1\n",
    "        \n",
    "        while i < j:\n",
    "            i_in_vowels = s[i] in vowels\n",
    "            j_in_vowels = s[j] in vowels\n",
    "            if i_in_vowels and j_in_vowels:\n",
    "                s[i], s[j] = s[j], s[i]\n",
    "                i += 1\n",
    "                j -= 1\n",
    "            else:\n",
    "                if i_in_vowels == False:\n",
    "                    i += 1\n",
    "                if j_in_vowels == False:\n",
    "                    j -= 1\n",
    "        return \"\".join(s)\n",
    "\n",
    "s = Solution()\n",
    "print(s.reverseVowels(\"hello\")) # holle"
   ]
  },
  {
   "cell_type": "code",
   "execution_count": null,
   "metadata": {},
   "outputs": [],
   "source": []
  }
 ],
 "metadata": {
  "kernelspec": {
   "display_name": "Python 3",
   "language": "python",
   "name": "python3"
  },
  "language_info": {
   "codemirror_mode": {
    "name": "ipython",
    "version": 3
   },
   "file_extension": ".py",
   "mimetype": "text/x-python",
   "name": "python",
   "nbconvert_exporter": "python",
   "pygments_lexer": "ipython3",
   "version": "3.6.8"
  }
 },
 "nbformat": 4,
 "nbformat_minor": 2
}
