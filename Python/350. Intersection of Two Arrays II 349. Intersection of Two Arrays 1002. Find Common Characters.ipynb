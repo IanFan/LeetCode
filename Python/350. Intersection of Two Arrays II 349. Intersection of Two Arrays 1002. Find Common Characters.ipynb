{
 "cells": [
  {
   "cell_type": "markdown",
   "metadata": {},
   "source": [
    "## 350. Intersection of Two Arrays II"
   ]
  },
  {
   "cell_type": "code",
   "execution_count": 1,
   "metadata": {},
   "outputs": [
    {
     "name": "stdout",
     "output_type": "stream",
     "text": [
      "[2, 2]\n"
     ]
    }
   ],
   "source": [
    "class Solution(object):\n",
    "    def intersect(self, nums1, nums2):\n",
    "        \"\"\"\n",
    "        :type nums1: List[int]\n",
    "        :type nums2: List[int]\n",
    "        :rtype: List[int]\n",
    "        \"\"\"\n",
    "        if not nums1 or not nums2:\n",
    "            return None\n",
    "        sor1 = sorted(nums1)\n",
    "        sor2 = sorted(nums2)\n",
    "        ans = []\n",
    "        i = 0\n",
    "        j = 0\n",
    "        while i<len(sor1) and j<len(sor2):\n",
    "            if sor1[i] == sor2[j]:\n",
    "                ans.append(sor1[i])\n",
    "                i += 1\n",
    "                j += 1\n",
    "            elif sor1[i] > sor2[j]:\n",
    "                j += 1\n",
    "            else:\n",
    "                i += 1\n",
    "        return ans\n",
    "            \n",
    "            \n",
    "sol = Solution()\n",
    "print(sol.intersect([1,2,2,1], [2,2]))"
   ]
  },
  {
   "cell_type": "markdown",
   "metadata": {},
   "source": [
    "## 349. Intersection of Two Arrays"
   ]
  },
  {
   "cell_type": "code",
   "execution_count": 4,
   "metadata": {},
   "outputs": [
    {
     "name": "stdout",
     "output_type": "stream",
     "text": [
      "[2]\n"
     ]
    }
   ],
   "source": [
    "class Solution(object):\n",
    "    def intersection(self, nums1, nums2):\n",
    "        \"\"\"\n",
    "        :type nums1: List[int]\n",
    "        :type nums2: List[int]\n",
    "        :rtype: List[int]\n",
    "        \"\"\"\n",
    "        sor1 = sorted(set(nums1))\n",
    "        sor2 = sorted(set(nums2))\n",
    "        i = j = 0\n",
    "        ans = []\n",
    "        while i < len(sor1) and j < len(sor2):\n",
    "            if sor1[i] == sor2[j]:\n",
    "                ans.append(sor1[i])\n",
    "                i += 1\n",
    "                j += 1\n",
    "            elif sor1[i] > sor2[j]:\n",
    "                j += 1\n",
    "            else:\n",
    "                i += 1\n",
    "        return ans\n",
    "\n",
    "sol = Solution()\n",
    "print(sol.intersection([1,2,2,1], [2,2]))"
   ]
  },
  {
   "cell_type": "markdown",
   "metadata": {},
   "source": [
    "## 1002. Find Common Characters"
   ]
  },
  {
   "cell_type": "code",
   "execution_count": 14,
   "metadata": {},
   "outputs": [
    {
     "name": "stdout",
     "output_type": "stream",
     "text": [
      "['l', 'l', 'e']\n"
     ]
    }
   ],
   "source": [
    "class Solution(object):\n",
    "    def commonChars(self, A):\n",
    "        \"\"\"\n",
    "        :type A: List[str]\n",
    "        :rtype: List[str]\n",
    "        \"\"\"\n",
    "        if not A:\n",
    "            return None\n",
    "        if not A[0]:\n",
    "            return None\n",
    "        check = list(A[0])\n",
    "        for string in A:\n",
    "            new_check = []\n",
    "            for c in string:\n",
    "                if c in check:\n",
    "                    new_check.append(c)\n",
    "                    check.remove(c)\n",
    "            check = new_check\n",
    "        return check\n",
    "                    \n",
    "        \n",
    "        \n",
    "sol = Solution()\n",
    "print(sol.commonChars([\"bella\",\"label\",\"roller\"]))     "
   ]
  },
  {
   "cell_type": "code",
   "execution_count": null,
   "metadata": {},
   "outputs": [],
   "source": []
  }
 ],
 "metadata": {
  "kernelspec": {
   "display_name": "Python 3",
   "language": "python",
   "name": "python3"
  },
  "language_info": {
   "codemirror_mode": {
    "name": "ipython",
    "version": 3
   },
   "file_extension": ".py",
   "mimetype": "text/x-python",
   "name": "python",
   "nbconvert_exporter": "python",
   "pygments_lexer": "ipython3",
   "version": "3.6.8"
  }
 },
 "nbformat": 4,
 "nbformat_minor": 2
}
