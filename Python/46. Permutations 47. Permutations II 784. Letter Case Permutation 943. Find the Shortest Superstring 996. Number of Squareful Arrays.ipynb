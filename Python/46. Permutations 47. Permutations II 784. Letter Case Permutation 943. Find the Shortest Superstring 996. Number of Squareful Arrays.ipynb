{
 "cells": [
  {
   "cell_type": "markdown",
   "metadata": {},
   "source": [
    "## 46. Permutations"
   ]
  },
  {
   "cell_type": "code",
   "execution_count": 1,
   "metadata": {},
   "outputs": [
    {
     "name": "stdout",
     "output_type": "stream",
     "text": [
      "[[1, 2, 3], [1, 3, 2], [2, 1, 3], [2, 3, 1], [3, 1, 2], [3, 2, 1]]\n"
     ]
    }
   ],
   "source": [
    "\"\"\"\n",
    "Given a collection of distinct integers, return all possible permutations.\n",
    "\n",
    "Input: [1,2,3]\n",
    "Output:\n",
    "[\n",
    "  [1,2,3],\n",
    "  [1,3,2],\n",
    "  [2,1,3],\n",
    "  [2,3,1],\n",
    "  [3,1,2],\n",
    "  [3,2,1]\n",
    "]\n",
    "\"\"\"\n",
    "\n",
    "class Solution(object):\n",
    "    def permute(self, nums):\n",
    "        \"\"\"\n",
    "        :type nums: List[int]\n",
    "        :rtype: List[List[int]]\n",
    "        \"\"\"\n",
    "        if not nums:\n",
    "            return []\n",
    "        if len(nums) == 1:\n",
    "            return [nums]\n",
    "        \n",
    "        res = []\n",
    "        self.dfs(nums, 0, [], res)\n",
    "        return res\n",
    "        \n",
    "    def dfs(self, nums, index, path, res):\n",
    "        if not nums:\n",
    "            res.append(path)\n",
    "        for i in range(len(nums)):\n",
    "            self.dfs(nums[:i]+nums[i+1:], 0, path+[nums[i]], res)\n",
    "\n",
    "sol = Solution()\n",
    "print(sol.permute([1,2,3]))"
   ]
  },
  {
   "cell_type": "markdown",
   "metadata": {},
   "source": [
    "## 47. Permutations II"
   ]
  },
  {
   "cell_type": "code",
   "execution_count": 6,
   "metadata": {},
   "outputs": [
    {
     "name": "stdout",
     "output_type": "stream",
     "text": [
      "[[1, 1, 2], [1, 2, 1], [2, 1, 1]]\n"
     ]
    }
   ],
   "source": [
    "\"\"\"\n",
    "Given a collection of numbers that might contain duplicates, return all possible unique permutations.\n",
    "\n",
    "Input: [1,1,2]\n",
    "Output:\n",
    "[\n",
    "  [1,1,2],\n",
    "  [1,2,1],\n",
    "  [2,1,1]\n",
    "]\n",
    "\"\"\"\n",
    "\n",
    "class Solution(object):\n",
    "    def permuteUnique(self, nums):\n",
    "        \"\"\"\n",
    "        :type nums: List[int]\n",
    "        :rtype: List[List[int]]\n",
    "        \"\"\"\n",
    "        if not nums:\n",
    "            return []\n",
    "        if len(nums) == 1:\n",
    "            return [nums]\n",
    "        \n",
    "        nums.sort()\n",
    "        res = []\n",
    "        self.dfs(nums, 0, [], res)\n",
    "        return res\n",
    "    \n",
    "    def dfs(self, nums, index, path, res):\n",
    "        if not nums:\n",
    "            res.append(path)\n",
    "        for i in range(len(nums)):\n",
    "            if i!=index and nums[i]==nums[i-1]:\n",
    "                continue\n",
    "            self.dfs(nums[:i]+nums[i+1:], 0, path+[nums[i]], res)\n",
    "        \n",
    "sol = Solution()\n",
    "print(sol.permuteUnique([1,1,2]))"
   ]
  },
  {
   "cell_type": "markdown",
   "metadata": {},
   "source": [
    "## 784. Letter Case Permutation"
   ]
  },
  {
   "cell_type": "code",
   "execution_count": 12,
   "metadata": {},
   "outputs": [
    {
     "name": "stdout",
     "output_type": "stream",
     "text": [
      "['a1b2', 'a1B2', 'A1b2', 'A1B2']\n",
      "['12345']\n"
     ]
    }
   ],
   "source": [
    "\"\"\"\n",
    "Given a string S, we can transform every letter individually to be lowercase or uppercase to create another string.  Return a list of all possible strings we could create.\n",
    "\n",
    "Examples:\n",
    "Input: S = \"a1b2\"\n",
    "Output: [\"a1b2\", \"a1B2\", \"A1b2\", \"A1B2\"]\n",
    "\n",
    "Input: S = \"3z4\"\n",
    "Output: [\"3z4\", \"3Z4\"]\n",
    "\n",
    "Input: S = \"12345\"\n",
    "Output: [\"12345\"]\n",
    "\"\"\"\n",
    "\n",
    "class Solution(object):\n",
    "    def letterCasePermutation(self, S):\n",
    "        \"\"\"\n",
    "        :type S: str\n",
    "        :rtype: List[str]\n",
    "        \"\"\"\n",
    "        \n",
    "        if not S:\n",
    "            return []\n",
    "        lst = []\n",
    "        for c in S:\n",
    "            if c.isalpha():\n",
    "                lst.append([c.lower(), c.upper()])\n",
    "            else:\n",
    "                lst.append(c)\n",
    "        \n",
    "        res = []\n",
    "        self.dfs(lst, 0, \"\", res)\n",
    "        return res\n",
    "        \n",
    "    def dfs(self, candidates, index, path, res):\n",
    "        if len(path) == len(candidates):\n",
    "            res.append(path)\n",
    "            return\n",
    "        for i in range(index, len(candidates)):\n",
    "            for j in range(len(candidates[i])):\n",
    "                self.dfs(candidates, i+1, path+candidates[i][j], res)\n",
    "            \n",
    "        \n",
    "sol = Solution()\n",
    "print(sol.letterCasePermutation(\"a1b2\"))\n",
    "print(sol.letterCasePermutation(\"12345\"))"
   ]
  },
  {
   "cell_type": "markdown",
   "metadata": {},
   "source": [
    "## 943. Find the Shortest Superstring\n",
    "https://buptwc.com/2018/11/19/Leetcode-943-Find-the-Shortest-Superstring/"
   ]
  },
  {
   "cell_type": "code",
   "execution_count": 79,
   "metadata": {},
   "outputs": [
    {
     "name": "stdout",
     "output_type": "stream",
     "text": [
      "oveslexeetcode\n",
      "atgtagcatcaagtca\n",
      "srchpiaufwbsrchpirchpiaueszsorqlqlmcjufdqhfw\n",
      "hozqhxcqmkifljvcieuhozqhxcqmkifljvcixdudtvurjkrovrhmpaowskyzphybeugmqkifljvciexdudtvgmqnepuhozqhxcqmsgtuowskyzphybeugmhxcqmkifljvciexovrhmpaasblgaosw\n"
     ]
    }
   ],
   "source": [
    "\"\"\"\n",
    "Given an array A of strings, find any smallest string that contains each string in A as a substring.\n",
    "\n",
    "We may assume that no string in A is substring of another string in A.\n",
    "\n",
    " \n",
    "Example 1:\n",
    "\n",
    "Input: [\"alex\",\"loves\",\"leetcode\"]\n",
    "Output: \"alexlovesleetcode\"\n",
    "Explanation: All permutations of \"alex\",\"loves\",\"leetcode\" would also be accepted.\n",
    "Example 2:\n",
    "\n",
    "Input: [\"catg\",\"ctaagt\",\"gcta\",\"ttca\",\"atgcatc\"]\n",
    "Output: \"gctaagttcatgcatc\"\n",
    " \n",
    "\n",
    "Note:\n",
    "\n",
    "1 <= A.length <= 12\n",
    "1 <= A[i].length <= 20\n",
    "\"\"\"\n",
    "\n",
    "class Solution(object):\n",
    "    def shortestSuperstring(self, A):\n",
    "        \"\"\"\n",
    "        :type A: List[str]\n",
    "        :rtype: str\n",
    "        \"\"\"\n",
    "        if not A:\n",
    "            return \"\"\n",
    "        if len(A) == 1:\n",
    "            return A[0]\n",
    "        A = list(set(A))\n",
    "        res = []\n",
    "        self.dfs(A, 0, \"\", res)\n",
    "        \n",
    "        min_length = 20*len(A)\n",
    "        ans = None\n",
    "        for s in res:\n",
    "            if len(s) < min_length:\n",
    "                min_length = len(s)\n",
    "                ans = s\n",
    "        return ans\n",
    "        \n",
    "    def dfs(self, cand, index, path, res):\n",
    "        if not cand:\n",
    "            res.append(path)\n",
    "            return\n",
    "        for i in range(index, len(cand)):\n",
    "            j = 0\n",
    "            tmp = cand[i]\n",
    "            if cand[i] in path:\n",
    "                tmp = \"\"\n",
    "            else:\n",
    "                for j in range(1, len(cand[i])):\n",
    "                    if path[-j:] == cand[i][:j]:\n",
    "                        continue\n",
    "                    else:\n",
    "                        break\n",
    "                tmp = cand[i][j:]\n",
    "#             for j in range(len(cand[i]), 0, -1):\n",
    "#                 if path[-j:] == cand[i][:j]:\n",
    "#                     tmp = cand[i][j:]\n",
    "#                     break\n",
    "            \n",
    "            self.dfs(cand[:i] + cand[i+1:], 0, path+tmp, res)\n",
    "        \n",
    "        \n",
    "sol = Solution()\n",
    "print(sol.shortestSuperstring([\"alex\",\"loves\",\"leetcode\"])) # \"alexlovesleetcode\"\n",
    "print(sol.shortestSuperstring([\"catg\",\"ctaagt\",\"gcta\",\"ttca\",\"atgcatc\"])) # \"gctaagttcatgcatc\"\n",
    "print(sol.shortestSuperstring([\"cgjufdqhfw\",\"bsrchpiau\",\"hfwbsrchpi\",\"sezsorql\",\"srchpiaues\",\"rqlmc\"])) # \"sezsorqlmcgjufdqhfwbsrchpiaues\"\n",
    "print(sol.shortestSuperstring([\"uhozqhxcqmkifljvcie\",\"epuhozqhxcqmkifljvci\",\"ugmqnepuhozqhxcqm\",\"iexdudtvurjkrovrhmpa\",\"rovrhmpaasblgaosw\",\"qmkifljvciexdudtv\",\"zsgtuowskyzphybeugm\",\"uowskyzphybeugmq\",\"qhxcqmkifljvciex\"])) # \"sezsorqlmcgjufdqhfwbsrchpiaues\"\n"
   ]
  },
  {
   "cell_type": "code",
   "execution_count": 75,
   "metadata": {},
   "outputs": [
    {
     "data": {
      "text/plain": [
       "30"
      ]
     },
     "execution_count": 75,
     "metadata": {},
     "output_type": "execute_result"
    }
   ],
   "source": [
    "len('cgjufdqhfwbsrchpiauesezsorqlmc')\n",
    "len('sezsorqlmcgjufdqhfwbsrchpiaues')\n",
    "len('srchpiauesezsorqlrqlmcgjufdqhfwbsrchpiau')"
   ]
  },
  {
   "cell_type": "markdown",
   "metadata": {},
   "source": [
    "## 996. Number of Squareful Arrays"
   ]
  },
  {
   "cell_type": "code",
   "execution_count": 98,
   "metadata": {},
   "outputs": [
    {
     "name": "stdout",
     "output_type": "stream",
     "text": [
      "2\n",
      "1\n"
     ]
    }
   ],
   "source": [
    "\"\"\"\n",
    "Given an array A of non-negative integers, the array is squareful if for every pair of adjacent elements, their sum is a perfect square.\n",
    "\n",
    "Return the number of permutations of A that are squareful.  Two permutations A1 and A2 differ if and only if there is some index i such that A1[i] != A2[i].\n",
    "\n",
    " \n",
    "\n",
    "Example 1:\n",
    "\n",
    "Input: [1,17,8]\n",
    "Output: 2\n",
    "Explanation: \n",
    "[1,8,17] and [17,8,1] are the valid permutations.\n",
    "Example 2:\n",
    "\n",
    "Input: [2,2,2]\n",
    "Output: 1\n",
    " \n",
    "\n",
    "Note:\n",
    "\n",
    "1 <= A.length <= 12\n",
    "0 <= A[i] <= 1e9\n",
    "\"\"\"\n",
    "import math\n",
    "\n",
    "class Solution(object):\n",
    "    def numSquarefulPerms(self, A):\n",
    "        \"\"\"\n",
    "        :type A: List[int]\n",
    "        :rtype: int\n",
    "        \"\"\"\n",
    "        if not A:\n",
    "            return 0\n",
    "        A = list(sorted(A))\n",
    "        res = []\n",
    "        self.dfs(A, 0, [], res)\n",
    "        return len(res)\n",
    "        \n",
    "    def dfs(self, cand, index, path, res):\n",
    "        if not cand:\n",
    "            res.append(path)\n",
    "            return \n",
    "        for i in range(index, len(cand)):\n",
    "            if i!=index and cand[i]==cand[i-1]:\n",
    "                continue\n",
    "            if len(path)>0:\n",
    "                check_num = path[-1] + cand[i]\n",
    "                if int(math.sqrt(check_num)) != math.sqrt(check_num):\n",
    "                    continue\n",
    "            self.dfs(cand[:i]+cand[i+1:], 0, path+[cand[i]], res)\n",
    "            \n",
    "sol = Solution()\n",
    "print(sol.numSquarefulPerms([1,17,8])) \n",
    "print(sol.numSquarefulPerms([2,2,2])) "
   ]
  },
  {
   "cell_type": "code",
   "execution_count": null,
   "metadata": {},
   "outputs": [],
   "source": []
  }
 ],
 "metadata": {
  "kernelspec": {
   "display_name": "Python 3",
   "language": "python",
   "name": "python3"
  },
  "language_info": {
   "codemirror_mode": {
    "name": "ipython",
    "version": 3
   },
   "file_extension": ".py",
   "mimetype": "text/x-python",
   "name": "python",
   "nbconvert_exporter": "python",
   "pygments_lexer": "ipython3",
   "version": "3.6.8"
  }
 },
 "nbformat": 4,
 "nbformat_minor": 2
}
