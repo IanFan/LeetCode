{
 "cells": [
  {
   "cell_type": "code",
   "execution_count": 1,
   "metadata": {},
   "outputs": [],
   "source": [
    "import time"
   ]
  },
  {
   "cell_type": "code",
   "execution_count": 3,
   "metadata": {},
   "outputs": [
    {
     "name": "stdout",
     "output_type": "stream",
     "text": [
      "18\n",
      "20\n",
      "13\n",
      "--- 0.0009469985961914062 seconds ---\n"
     ]
    }
   ],
   "source": [
    "start_time = time.time()\n",
    "\n",
    "# Definition for a binary tree node.\n",
    "class TreeNode(object):\n",
    "    def __init__(self, x):\n",
    "        self.val = x\n",
    "        self.left = None\n",
    "        self.right = None\n",
    "\n",
    "class Solution(object):\n",
    "    def convertBST(self, root):\n",
    "        \"\"\"\n",
    "        :type root: TreeNode\n",
    "        :rtype: TreeNode\n",
    "        \"\"\"\n",
    "        if not root:\n",
    "            return root\n",
    "        stack = []\n",
    "        tmp = 0\n",
    "        dummy = root\n",
    "        while stack or root:\n",
    "            if root:\n",
    "                stack.append(root)\n",
    "                root = root.right\n",
    "            else:\n",
    "                root = stack.pop()\n",
    "                root.val = root.val + tmp\n",
    "                tmp = root.val\n",
    "                root = root.left\n",
    "        return dummy\n",
    "\n",
    "\"\"\"\n",
    "Input: The root of a Binary Search Tree like this:\n",
    "              5\n",
    "            /   \\\n",
    "           2     13\n",
    "\n",
    "Output: The root of a Greater Tree like this:\n",
    "             18\n",
    "            /   \\\n",
    "          20     13\n",
    "\"\"\"    \n",
    "\n",
    "r = TreeNode(5)\n",
    "r.left = TreeNode(2)\n",
    "r.right = TreeNode(13)\n",
    "\n",
    "sol = Solution()\n",
    "r_ = sol.convertBST(r)\n",
    "print(r_.val)\n",
    "print(r_.left.val)\n",
    "print(r_.right.val)\n",
    "    \n",
    "    \n",
    "print(\"--- %s seconds ---\" % (time.time() - start_time))        "
   ]
  },
  {
   "cell_type": "code",
   "execution_count": null,
   "metadata": {},
   "outputs": [],
   "source": []
  }
 ],
 "metadata": {
  "kernelspec": {
   "display_name": "Python 3",
   "language": "python",
   "name": "python3"
  },
  "language_info": {
   "codemirror_mode": {
    "name": "ipython",
    "version": 3
   },
   "file_extension": ".py",
   "mimetype": "text/x-python",
   "name": "python",
   "nbconvert_exporter": "python",
   "pygments_lexer": "ipython3",
   "version": "3.6.8"
  }
 },
 "nbformat": 4,
 "nbformat_minor": 2
}
