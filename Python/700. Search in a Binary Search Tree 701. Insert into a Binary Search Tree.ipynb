{
 "cells": [
  {
   "cell_type": "markdown",
   "metadata": {},
   "source": [
    "## 700. Search in a Binary Search Tree"
   ]
  },
  {
   "cell_type": "code",
   "execution_count": 3,
   "metadata": {},
   "outputs": [
    {
     "name": "stdout",
     "output_type": "stream",
     "text": [
      "2\n"
     ]
    }
   ],
   "source": [
    "\"\"\"\n",
    "Given the root node of a binary search tree (BST) and a value. You need to find the node in the BST that the node's value equals the given value. Return the subtree rooted with that node. If such node doesn't exist, you should return NULL.\n",
    "\n",
    "For example, \n",
    "\n",
    "Given the tree:\n",
    "        4\n",
    "       / \\\n",
    "      2   7\n",
    "     / \\\n",
    "    1   3\n",
    "\n",
    "And the value to search: 2\n",
    "You should return this subtree:\n",
    "\n",
    "      2     \n",
    "     / \\   \n",
    "    1   3\n",
    "In the example above, if we want to search the value 5, since there is no node with value 5, we should return NULL.\n",
    "\n",
    "Note that an empty tree is represented by NULL, therefore you would see the expected output (serialized tree format) as [], not null.\n",
    "\"\"\"\n",
    "\n",
    "# Definition for a binary tree node.\n",
    "class TreeNode:\n",
    "    def __init__(self, x):\n",
    "        self.val = x\n",
    "        self.left = None\n",
    "        self.right = None\n",
    "\n",
    "class Solution:\n",
    "    def searchBST(self, root: TreeNode, val: int) -> TreeNode:\n",
    "        if not root:\n",
    "            return None\n",
    "        if root.val == val:\n",
    "            return root\n",
    "        l = self.searchBST(root.left, val)\n",
    "        r = self.searchBST(root.right, val)\n",
    "        if l:\n",
    "            return l\n",
    "        if r:\n",
    "            return r\n",
    "        return None\n",
    "\n",
    "t1 = TreeNode(4)\n",
    "t1.left = TreeNode(2)\n",
    "t1.right = TreeNode(7)\n",
    "t1.left.right = TreeNode(1)\n",
    "t1.left.right = TreeNode(3)\n",
    "\n",
    "sol = Solution()\n",
    "print(sol.searchBST(t1, 2))"
   ]
  },
  {
   "cell_type": "markdown",
   "metadata": {},
   "source": [
    "## 701. Insert into a Binary Search Tree"
   ]
  },
  {
   "cell_type": "code",
   "execution_count": 5,
   "metadata": {},
   "outputs": [
    {
     "name": "stdout",
     "output_type": "stream",
     "text": [
      "<__main__.TreeNode object at 0x106f5e630>\n"
     ]
    }
   ],
   "source": [
    "\"\"\"\n",
    "Given the root node of a binary search tree (BST) and a value to be inserted into the tree, insert the value into the BST. Return the root node of the BST after the insertion. It is guaranteed that the new value does not exist in the original BST.\n",
    "\n",
    "Note that there may exist multiple valid ways for the insertion, as long as the tree remains a BST after insertion. You can return any of them.\n",
    "\n",
    "For example, \n",
    "\n",
    "Given the tree:\n",
    "        4\n",
    "       / \\\n",
    "      2   7\n",
    "     / \\\n",
    "    1   3\n",
    "And the value to insert: 5\n",
    "You can return this binary search tree:\n",
    "\n",
    "         4\n",
    "       /   \\\n",
    "      2     7\n",
    "     / \\   /\n",
    "    1   3 5\n",
    "This tree is also valid:\n",
    "\n",
    "         5\n",
    "       /   \\\n",
    "      2     7\n",
    "     / \\   \n",
    "    1   3\n",
    "         \\\n",
    "          4\n",
    "\"\"\"\n",
    "\n",
    "# Definition for a binary tree node.\n",
    "class TreeNode:\n",
    "    def __init__(self, x):\n",
    "        self.val = x\n",
    "        self.left = None\n",
    "        self.right = None\n",
    "\n",
    "class Solution:\n",
    "    def insertIntoBST(self, root: TreeNode, val: int) -> TreeNode:\n",
    "        if not root:\n",
    "            return None\n",
    "        self.dfs(root, val)\n",
    "        return root\n",
    "    \n",
    "    def dfs(self, node, val):\n",
    "        if not node:\n",
    "            return\n",
    "        if val > node.val:\n",
    "            if not node.right:\n",
    "                node.right = TreeNode(val)\n",
    "                return\n",
    "            else:\n",
    "                self.insertIntoBST(node.right, val)\n",
    "        if val < node.val:\n",
    "            if not node.left:\n",
    "                node.left = TreeNode(val)\n",
    "                return\n",
    "            else:\n",
    "                self.insertIntoBST(node.left, val)\n",
    "\n",
    "        \n",
    "t1 = TreeNode(4)\n",
    "t1.left = TreeNode(2)\n",
    "t1.right = TreeNode(7)\n",
    "t1.left.right = TreeNode(1)\n",
    "t1.left.right = TreeNode(3)\n",
    "\n",
    "sol = Solution()\n",
    "print(sol.insertIntoBST(t1, 4))"
   ]
  },
  {
   "cell_type": "code",
   "execution_count": null,
   "metadata": {},
   "outputs": [],
   "source": [
    "\n"
   ]
  }
 ],
 "metadata": {
  "kernelspec": {
   "display_name": "Python 3",
   "language": "python",
   "name": "python3"
  },
  "language_info": {
   "codemirror_mode": {
    "name": "ipython",
    "version": 3
   },
   "file_extension": ".py",
   "mimetype": "text/x-python",
   "name": "python",
   "nbconvert_exporter": "python",
   "pygments_lexer": "ipython3",
   "version": "3.6.8"
  }
 },
 "nbformat": 4,
 "nbformat_minor": 2
}
