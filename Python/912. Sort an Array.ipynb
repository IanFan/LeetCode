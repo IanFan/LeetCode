{
 "cells": [
  {
   "cell_type": "markdown",
   "metadata": {},
   "source": [
    "排序演算法(Sort Algorithm)\n",
    "http://notepad.yehyeh.net/Content/Algorithm/Sort/Sort.php"
   ]
  },
  {
   "cell_type": "code",
   "execution_count": 2,
   "metadata": {},
   "outputs": [],
   "source": [
    "import time"
   ]
  },
  {
   "cell_type": "code",
   "execution_count": 36,
   "metadata": {},
   "outputs": [
    {
     "name": "stdout",
     "output_type": "stream",
     "text": [
      "[1, 2, 3, 5]\n",
      "[0, 0, 1, 1, 2, 5]\n",
      "--- 0.0007297992706298828 seconds ---\n"
     ]
    }
   ],
   "source": [
    "start_time = time.time()\n",
    "import random\n",
    "\n",
    "class Solution:\n",
    "    def sortArray(self, nums):\n",
    "#         self.sort_array(nums)\n",
    "#         self.bubble_sort(nums)\n",
    "#         self.insertion_sort(nums)\n",
    "#         self.selection_sort(nums)\n",
    "        nums = self.quick_sort(nums)\n",
    "#         self.merge_sort(nums)\n",
    "#         self.heap_sort(nums)\n",
    "        return nums\n",
    "    \n",
    "    def sort_array(self, nums):\n",
    "        return sorted(nums)\n",
    "\n",
    "    def bubble_sort(self, nums):\n",
    "        n = len(nums)\n",
    "        for i in range(n):\n",
    "            for j in range(n - i - 1):\n",
    "                if nums[j] > nums[j + 1]:\n",
    "                    nums[j], nums[j + 1] = nums[j + 1], nums[j]\n",
    "    \n",
    "    def insertion_sort(self, nums): \n",
    "        for i in range(1, len(nums)): \n",
    "            key = nums[i]\n",
    "            j = i-1\n",
    "            while j >= 0 and key < nums[j] : \n",
    "                    nums[j + 1] = nums[j] \n",
    "                    j -= 1\n",
    "            nums[j + 1] = key\n",
    "            \n",
    "    def selection_sort(self, nums):\n",
    "        for i in range(len(nums)):\n",
    "            min_num = min(nums[i:])\n",
    "            min_index = nums[i:].index(min_num)\n",
    "            nums[i + min_index], nums[i] = nums[i], min_num\n",
    "        return nums\n",
    "    \n",
    "    def quick_sort(self, nums):\n",
    "        if len(nums) <= 1:\n",
    "            return nums\n",
    "\n",
    "        pivot = random.choice(nums)\n",
    "        lt = [v for v in nums if v < pivot]\n",
    "        eq = [v for v in nums if v == pivot]\n",
    "        gt = [v for v in nums if v > pivot]\n",
    "        \n",
    "        return self.quick_sort(lt) + eq + self.quick_sort(gt)\n",
    "    \n",
    "    def merge_sort(self, nums): \n",
    "        if len(nums) > 1: \n",
    "            mid = len(nums)//2\n",
    "            L = nums[:mid] \n",
    "            R = nums[mid:] \n",
    "\n",
    "            self.merge_sort(L)\n",
    "            self.merge_sort(R)\n",
    "\n",
    "            i = j = k = 0\n",
    "\n",
    "            while i < len(L) and j < len(R): \n",
    "                if L[i] < R[j]: \n",
    "                    nums[k] = L[i] \n",
    "                    i+=1\n",
    "                else: \n",
    "                    nums[k] = R[j] \n",
    "                    j+=1\n",
    "                k+=1\n",
    " \n",
    "            while i < len(L): \n",
    "                nums[k] = L[i] \n",
    "                i+=1\n",
    "                k+=1\n",
    "\n",
    "            while j < len(R): \n",
    "                nums[k] = R[j] \n",
    "                j+=1\n",
    "                k+=1\n",
    "                \n",
    "    def heap_sort(self, nums):\n",
    "        def heapify(nums, n, i): \n",
    "            largest = i\n",
    "            l = 2 * i + 1\n",
    "            r = 2 * i + 2\n",
    "            \n",
    "            if l < n and nums[i] < nums[l]: \n",
    "                largest = l \n",
    "\n",
    "            if r < n and nums[largest] < nums[r]: \n",
    "                largest = r \n",
    "\n",
    "            if largest != i: \n",
    "                nums[i], nums[largest] = nums[largest], nums[i]\n",
    "                \n",
    "                heapify(nums, n, largest)\n",
    "                \n",
    "        n = len(nums) \n",
    "\n",
    "        for i in range(n, -1, -1): \n",
    "            heapify(nums, n, i) \n",
    "\n",
    "        for i in range(n-1, 0, -1): \n",
    "            nums[i], nums[0] = nums[0], nums[i]\n",
    "            heapify(nums, i, 0) \n",
    "\n",
    "sol = Solution()\n",
    "print(sol.sortArray([5,2,3,1]))\n",
    "print(sol.sortArray([5,1,1,2,0,0]))\n",
    "\n",
    "print(\"--- %s seconds ---\" % (time.time() - start_time)) "
   ]
  },
  {
   "cell_type": "code",
   "execution_count": 27,
   "metadata": {},
   "outputs": [
    {
     "name": "stdout",
     "output_type": "stream",
     "text": [
      "[1, 2, 3, 5]\n",
      "[0, 0, 1, 1, 2, 5]\n",
      "--- 0.0003249645233154297 seconds ---\n"
     ]
    }
   ],
   "source": [
    "start_time = time.time()\n",
    "\n",
    "class Solution:\n",
    "    def sortArray(self, nums):\n",
    "        self.bubble_sort(nums)\n",
    "        return nums\n",
    "\n",
    "    def bubble_sort(self, nums):\n",
    "        n = len(nums)\n",
    "        for i in range(n):\n",
    "            for j in range(n-i-1):\n",
    "                if nums[j] > nums[j+1]:\n",
    "                    nums[j], nums[j+1] = nums[j+1], nums[j]\n",
    "\n",
    "sol = Solution()\n",
    "print(sol.sortArray([5,2,3,1]))\n",
    "print(sol.sortArray([5,1,1,2,0,0]))\n",
    "\n",
    "print(\"--- %s seconds ---\" % (time.time() - start_time)) "
   ]
  },
  {
   "cell_type": "code",
   "execution_count": 3,
   "metadata": {},
   "outputs": [
    {
     "name": "stdout",
     "output_type": "stream",
     "text": [
      "[1, 2, 3, 5]\n",
      "[0, 0, 1, 1, 2, 5]\n",
      "--- 0.0003647804260253906 seconds ---\n"
     ]
    }
   ],
   "source": [
    "start_time = time.time()\n",
    "\n",
    "class Solution:\n",
    "    def sortArray(self, nums):\n",
    "        self.insertion_sort(nums)\n",
    "        return nums\n",
    "\n",
    "    def insertion_sort(self, nums): \n",
    "        n = len(nums)\n",
    "        for i in range(1, n):\n",
    "            key = nums[i]\n",
    "            j = i-1\n",
    "            while j >= 0 and key < nums[j]:\n",
    "                nums[j+1] = nums[j]\n",
    "                j -= 1\n",
    "            nums[j+1] = key\n",
    "\n",
    "sol = Solution()\n",
    "print(sol.sortArray([5,2,3,1]))\n",
    "print(sol.sortArray([5,1,1,2,0,0]))\n",
    "\n",
    "print(\"--- %s seconds ---\" % (time.time() - start_time)) "
   ]
  },
  {
   "cell_type": "code",
   "execution_count": 35,
   "metadata": {},
   "outputs": [
    {
     "name": "stdout",
     "output_type": "stream",
     "text": [
      "[1, 2, 3, 5]\n",
      "[0, 0, 1, 1, 2, 5]\n",
      "--- 0.0003478527069091797 seconds ---\n"
     ]
    }
   ],
   "source": [
    "start_time = time.time()\n",
    "\n",
    "class Solution:\n",
    "    def sortArray(self, nums):\n",
    "        nums = self.quick_sort(nums)\n",
    "        return nums\n",
    "        \n",
    "    def quick_sort(self, nums): \n",
    "        if len(nums) <= 1:\n",
    "            return nums\n",
    "        \n",
    "        lt = []\n",
    "        eq = []\n",
    "        gt = []\n",
    "        pivot = random.choice(nums)\n",
    "        for n in nums:\n",
    "            if n > pivot:\n",
    "                gt.append(n)\n",
    "            elif n < pivot:\n",
    "                lt.append(n)\n",
    "            else:\n",
    "                eq.append(n)\n",
    "        return self.quick_sort(lt) + eq + self.quick_sort(gt)\n",
    "\n",
    "sol = Solution()\n",
    "print(sol.sortArray([5,2,3,1]))\n",
    "print(sol.sortArray([5,1,1,2,0,0]))\n",
    "\n",
    "print(\"--- %s seconds ---\" % (time.time() - start_time)) "
   ]
  },
  {
   "cell_type": "code",
   "execution_count": 41,
   "metadata": {},
   "outputs": [
    {
     "name": "stdout",
     "output_type": "stream",
     "text": [
      "[1, 2, 3, 5]\n",
      "[0, 0, 1, 1, 2, 5]\n",
      "--- 0.0004837512969970703 seconds ---\n"
     ]
    }
   ],
   "source": [
    "start_time = time.time()\n",
    "\n",
    "class Solution:\n",
    "    def sortArray(self, nums):\n",
    "        self.merge_sort(nums)\n",
    "        return nums\n",
    "        \n",
    "    def merge_sort(self, nums): \n",
    "        if len(nums) <= 1:\n",
    "            return nums\n",
    "        \n",
    "        mid = len(nums)//2\n",
    "        left = nums[:mid]\n",
    "        right = nums[mid:]\n",
    "        \n",
    "        self.merge_sort(left)\n",
    "        self.merge_sort(right)\n",
    "        \n",
    "        i = j = k = 0\n",
    "        res = []\n",
    "        while i < len(left) and j < len(right):\n",
    "            if left[i] < right[j]:\n",
    "                nums[k] = left[i]\n",
    "                i += 1\n",
    "                k += 1\n",
    "            else:\n",
    "                nums[k] = right[j]\n",
    "                j += 1\n",
    "                k += 1\n",
    "        while i < len(left):\n",
    "            nums[k] = left[i]\n",
    "            i += 1\n",
    "            k += 1\n",
    "        while j < len(right):\n",
    "            nums[k] = right[j]\n",
    "            j += 1\n",
    "            k += 1\n",
    "\n",
    "sol = Solution()\n",
    "print(sol.sortArray([5,2,3,1]))\n",
    "print(sol.sortArray([5,1,1,2,0,0]))\n",
    "\n",
    "print(\"--- %s seconds ---\" % (time.time() - start_time)) "
   ]
  },
  {
   "cell_type": "code",
   "execution_count": null,
   "metadata": {},
   "outputs": [],
   "source": []
  }
 ],
 "metadata": {
  "kernelspec": {
   "display_name": "Python 3",
   "language": "python",
   "name": "python3"
  },
  "language_info": {
   "codemirror_mode": {
    "name": "ipython",
    "version": 3
   },
   "file_extension": ".py",
   "mimetype": "text/x-python",
   "name": "python",
   "nbconvert_exporter": "python",
   "pygments_lexer": "ipython3",
   "version": "3.6.8"
  }
 },
 "nbformat": 4,
 "nbformat_minor": 2
}
